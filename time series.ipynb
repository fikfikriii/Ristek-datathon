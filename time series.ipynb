{
 "cells": [
  {
   "cell_type": "code",
   "execution_count": 27,
   "metadata": {},
   "outputs": [],
   "source": [
    "import pandas as pd\n",
    "import numpy as np\n",
    "import matplotlib.pyplot as plt\n",
    "import seaborn as sns"
   ]
  },
  {
   "cell_type": "code",
   "execution_count": 28,
   "metadata": {},
   "outputs": [],
   "source": [
    "train_df = pd.read_csv('data/train ori.csv')\n",
    "test_df = pd.read_csv('data/test ori.csv')"
   ]
  },
  {
   "cell_type": "code",
   "execution_count": 29,
   "metadata": {},
   "outputs": [
    {
     "data": {
      "text/plain": [
       "Index(['waktu_setempat', 'id_jalan', 'id_titik_mulai', 'id_titik_akhir',\n",
       "       'rerata_kecepatan'],\n",
       "      dtype='object')"
      ]
     },
     "execution_count": 29,
     "metadata": {},
     "output_type": "execute_result"
    }
   ],
   "source": [
    "train_df.columns"
   ]
  },
  {
   "cell_type": "code",
   "execution_count": 30,
   "metadata": {},
   "outputs": [
    {
     "name": "stdout",
     "output_type": "stream",
     "text": [
      "<class 'pandas.core.frame.DataFrame'>\n",
      "RangeIndex: 398648 entries, 0 to 398647\n",
      "Data columns (total 5 columns):\n",
      " #   Column            Non-Null Count   Dtype  \n",
      "---  ------            --------------   -----  \n",
      " 0   waktu_setempat    398648 non-null  object \n",
      " 1   id_jalan          398648 non-null  int64  \n",
      " 2   id_titik_mulai    398648 non-null  int64  \n",
      " 3   id_titik_akhir    398648 non-null  int64  \n",
      " 4   rerata_kecepatan  398648 non-null  float64\n",
      "dtypes: float64(1), int64(3), object(1)\n",
      "memory usage: 15.2+ MB\n"
     ]
    }
   ],
   "source": [
    "train_df.info()"
   ]
  },
  {
   "cell_type": "code",
   "execution_count": 13,
   "metadata": {},
   "outputs": [],
   "source": [
    "train_df['waktu_setempat'] = pd.to_datetime(train_df['waktu_setempat']).dt.tz_localize(None)\n",
    "test_df['waktu_setempat'] = pd.to_datetime(test_df['waktu_setempat']).dt.tz_localize(None)"
   ]
  },
  {
   "cell_type": "code",
   "execution_count": 14,
   "metadata": {},
   "outputs": [],
   "source": [
    "train_df['unique_id'] = train_df['id_jalan'].astype(str) + '_' + train_df['id_titik_mulai'].astype(str) + '_' + train_df['id_titik_akhir'].astype(str)\n",
    "test_df['unique_id'] = test_df['id_jalan'].astype(str) + '_' + test_df['id_titik_mulai'].astype(str) + '_' + test_df['id_titik_akhir'].astype(str)"
   ]
  },
  {
   "cell_type": "code",
   "execution_count": 15,
   "metadata": {},
   "outputs": [],
   "source": [
    "# import pandas as pd\n",
    "# import seaborn as sns\n",
    "# # import matplotlib.pyplot as plt\n",
    "\n",
    "# # Assuming you have already loaded the DataFrame as 'train_df'\n",
    "# sns.set(style=\"whitegrid\")\n",
    "# plt.figure(figsize=(12, 8))\n",
    "# sns.heatmap(train_df.corr(), annot=True, cmap=\"coolwarm\", fmt=\".2f\")\n",
    "# plt.title(\"Correlation Heatmap for train_df\")\n",
    "# plt.show()"
   ]
  },
  {
   "cell_type": "code",
   "execution_count": 16,
   "metadata": {},
   "outputs": [],
   "source": [
    "train_df = train_df.rename(columns={'waktu_setempat': 'ds', 'rerata_kecepatan': 'y'})\n",
    "test_df = test_df.rename(columns={'waktu_setempat': 'ds'})"
   ]
  },
  {
   "cell_type": "code",
   "execution_count": 17,
   "metadata": {},
   "outputs": [],
   "source": [
    "columns_to_drop = ['id_jalan', 'id_titik_mulai', 'id_titik_akhir']\n",
    "train_df.drop(columns=columns_to_drop, inplace=True)\n",
    "test_df.drop(columns=columns_to_drop, inplace=True)"
   ]
  },
  {
   "cell_type": "code",
   "execution_count": 21,
   "metadata": {},
   "outputs": [
    {
     "name": "stdout",
     "output_type": "stream",
     "text": [
      "<class 'pandas.core.frame.DataFrame'>\n",
      "RangeIndex: 398648 entries, 0 to 398647\n",
      "Data columns (total 3 columns):\n",
      " #   Column     Non-Null Count   Dtype         \n",
      "---  ------     --------------   -----         \n",
      " 0   ds         398648 non-null  datetime64[ns]\n",
      " 1   y          398648 non-null  float64       \n",
      " 2   unique_id  398648 non-null  category      \n",
      "dtypes: category(1), datetime64[ns](1), float64(1)\n",
      "memory usage: 6.9 MB\n"
     ]
    }
   ],
   "source": [
    "train_df.info()"
   ]
  },
  {
   "cell_type": "code",
   "execution_count": 19,
   "metadata": {},
   "outputs": [],
   "source": [
    "train_df['unique_id'] = train_df['unique_id'].astype('category')\n",
    "test_df['unique_id'] = test_df['unique_id'].astype('category')"
   ]
  },
  {
   "cell_type": "code",
   "execution_count": 20,
   "metadata": {},
   "outputs": [],
   "source": [
    "train = train_df.loc[train_df['ds'] < '2020-02-17']\n",
    "valid = train_df.loc[train_df['ds'] >= '2020-02-17']"
   ]
  },
  {
   "cell_type": "code",
   "execution_count": 22,
   "metadata": {},
   "outputs": [],
   "source": [
    "from sklearn.ensemble import RandomForestRegressor, ExtraTreesRegressor\n",
    "\n",
    "models = [RandomForestRegressor(random_state=0, n_estimators=100),\n",
    "        ExtraTreesRegressor(random_state=0, n_estimators=100)]"
   ]
  },
  {
   "cell_type": "code",
   "execution_count": 24,
   "metadata": {},
   "outputs": [],
   "source": [
    "from mlforecast import MLForecast\n",
    "# from mlforecast.target_transforms import Differences\n",
    "from numba import jit\n",
    "from window_ops.expanding import expanding_mean\n",
    "from window_ops.rolling import rolling_mean\n",
    "\n",
    "@jit(nopython=True)\n",
    "def diff(x, lag):\n",
    "    x2 = np.full_like(x, np.nan)\n",
    "    for i in range(lag, len(x)):\n",
    "        x2[i] = x[i] - x[i-lag]\n",
    "    return x2\n",
    "\n",
    "# Create the lag transforms using rolling window and mean\n",
    "lag_transforms = {\n",
    "    1: [(lambda x: x.rolling(window=3).mean()), (lambda x: x.rolling(window=7).mean()),\n",
    "        (lambda x: x.rolling(window=24).mean()), (diff, 1), (diff, 7)],\n",
    "    24: [(lambda x: x.diff(24)), (diff, 24)]\n",
    "}\n",
    "\n",
    "model = MLForecast(models=models,\n",
    "                   freq='H',\n",
    "                   lags=[1, 24, 48],\n",
    "                   lag_transforms=lag_transforms,\n",
    "                   date_features=['dayofweek'],\n",
    "                   num_threads=4)"
   ]
  },
  {
   "cell_type": "code",
   "execution_count": 25,
   "metadata": {},
   "outputs": [
    {
     "ename": "TypingError",
     "evalue": "Failed in nopython mode pipeline (step: nopython frontend)\n\u001b[1m\u001b[1mnon-precise type pyobject\u001b[0m\n\u001b[0m\u001b[1mDuring: typing of argument at c:\\Users\\Fikri\\AppData\\Local\\Programs\\Python\\Python311\\Lib\\site-packages\\mlforecast\\core.py (74)\u001b[0m\n\u001b[1m\nFile \"c:\\Users\\Fikri\\AppData\\Local\\Programs\\Python\\Python311\\Lib\\site-packages\\mlforecast\\core.py\", line 74:\u001b[0m\n\u001b[1mdef _as_tuple(x):\n    <source elided>\n\n\u001b[1m@njit(nogil=True)\n\u001b[0m\u001b[1m^\u001b[0m\u001b[0m \n\nThis error may have been caused by the following argument(s):\n- argument 4: \u001b[1mCannot determine Numba type of <class 'function'>\u001b[0m \n\nThis error may have been caused by the following argument(s):\n- argument 4: \u001b[1mCannot determine Numba type of <class 'function'>\u001b[0m\n",
     "output_type": "error",
     "traceback": [
      "\u001b[1;31m---------------------------------------------------------------------------\u001b[0m",
      "\u001b[1;31mTypingError\u001b[0m                               Traceback (most recent call last)",
      "Cell \u001b[1;32mIn[25], line 1\u001b[0m\n\u001b[1;32m----> 1\u001b[0m model\u001b[39m.\u001b[39;49mfit(train, id_col\u001b[39m=\u001b[39;49m\u001b[39m'\u001b[39;49m\u001b[39munique_id\u001b[39;49m\u001b[39m'\u001b[39;49m, time_col\u001b[39m=\u001b[39;49m\u001b[39m'\u001b[39;49m\u001b[39mds\u001b[39;49m\u001b[39m'\u001b[39;49m, target_col\u001b[39m=\u001b[39;49m\u001b[39m'\u001b[39;49m\u001b[39my\u001b[39;49m\u001b[39m'\u001b[39;49m, static_features\u001b[39m=\u001b[39;49m[])\n\u001b[0;32m      3\u001b[0m p \u001b[39m=\u001b[39m model\u001b[39m.\u001b[39mpredict(horizon\u001b[39m=\u001b[39m\u001b[39m90\u001b[39m, dynamic_dfs\u001b[39m=\u001b[39m[valid[[\u001b[39m'\u001b[39m\u001b[39munique_id\u001b[39m\u001b[39m'\u001b[39m, \u001b[39m'\u001b[39m\u001b[39mds\u001b[39m\u001b[39m'\u001b[39m]]])\n\u001b[0;32m      4\u001b[0m p \u001b[39m=\u001b[39m p\u001b[39m.\u001b[39mmerge(valid[[\u001b[39m'\u001b[39m\u001b[39munique_id\u001b[39m\u001b[39m'\u001b[39m, \u001b[39m'\u001b[39m\u001b[39mds\u001b[39m\u001b[39m'\u001b[39m, \u001b[39m'\u001b[39m\u001b[39my\u001b[39m\u001b[39m'\u001b[39m]], on\u001b[39m=\u001b[39m[\u001b[39m'\u001b[39m\u001b[39munique_id\u001b[39m\u001b[39m'\u001b[39m, \u001b[39m'\u001b[39m\u001b[39mds\u001b[39m\u001b[39m'\u001b[39m], how\u001b[39m=\u001b[39m\u001b[39m'\u001b[39m\u001b[39mleft\u001b[39m\u001b[39m'\u001b[39m)\n",
      "File \u001b[1;32mc:\\Users\\Fikri\\AppData\\Local\\Programs\\Python\\Python311\\Lib\\site-packages\\mlforecast\\forecast.py:338\u001b[0m, in \u001b[0;36mMLForecast.fit\u001b[1;34m(self, data, id_col, time_col, target_col, static_features, dropna, keep_last_n, max_horizon, prediction_intervals)\u001b[0m\n\u001b[0;32m    326\u001b[0m     \u001b[39mself\u001b[39m\u001b[39m.\u001b[39mprediction_intervals \u001b[39m=\u001b[39m prediction_intervals\n\u001b[0;32m    327\u001b[0m     \u001b[39mself\u001b[39m\u001b[39m.\u001b[39m_cs_df \u001b[39m=\u001b[39m \u001b[39mself\u001b[39m\u001b[39m.\u001b[39m_conformity_scores(\n\u001b[0;32m    328\u001b[0m         data\u001b[39m=\u001b[39mdata,\n\u001b[0;32m    329\u001b[0m         id_col\u001b[39m=\u001b[39mid_col,\n\u001b[1;32m   (...)\u001b[0m\n\u001b[0;32m    336\u001b[0m         window_size\u001b[39m=\u001b[39mprediction_intervals\u001b[39m.\u001b[39mwindow_size,\n\u001b[0;32m    337\u001b[0m     )\n\u001b[1;32m--> 338\u001b[0m X, y \u001b[39m=\u001b[39m \u001b[39mself\u001b[39;49m\u001b[39m.\u001b[39;49mpreprocess(\n\u001b[0;32m    339\u001b[0m     data,\n\u001b[0;32m    340\u001b[0m     id_col\u001b[39m=\u001b[39;49mid_col,\n\u001b[0;32m    341\u001b[0m     time_col\u001b[39m=\u001b[39;49mtime_col,\n\u001b[0;32m    342\u001b[0m     target_col\u001b[39m=\u001b[39;49mtarget_col,\n\u001b[0;32m    343\u001b[0m     static_features\u001b[39m=\u001b[39;49mstatic_features,\n\u001b[0;32m    344\u001b[0m     dropna\u001b[39m=\u001b[39;49mdropna,\n\u001b[0;32m    345\u001b[0m     keep_last_n\u001b[39m=\u001b[39;49mkeep_last_n,\n\u001b[0;32m    346\u001b[0m     max_horizon\u001b[39m=\u001b[39;49mmax_horizon,\n\u001b[0;32m    347\u001b[0m     return_X_y\u001b[39m=\u001b[39;49m\u001b[39mTrue\u001b[39;49;00m,\n\u001b[0;32m    348\u001b[0m )\n\u001b[0;32m    349\u001b[0m features \u001b[39m=\u001b[39m X\u001b[39m.\u001b[39mcolumns\u001b[39m.\u001b[39mdrop(time_col)\n\u001b[0;32m    350\u001b[0m \u001b[39mif\u001b[39;00m id_col \u001b[39m!=\u001b[39m \u001b[39m\"\u001b[39m\u001b[39mindex\u001b[39m\u001b[39m\"\u001b[39m \u001b[39mand\u001b[39;00m id_col \u001b[39mnot\u001b[39;00m \u001b[39min\u001b[39;00m \u001b[39mself\u001b[39m\u001b[39m.\u001b[39mts\u001b[39m.\u001b[39mstatic_features:\n",
      "File \u001b[1;32mc:\\Users\\Fikri\\AppData\\Local\\Programs\\Python\\Python311\\Lib\\site-packages\\mlforecast\\forecast.py:195\u001b[0m, in \u001b[0;36mMLForecast.preprocess\u001b[1;34m(self, data, id_col, time_col, target_col, static_features, dropna, keep_last_n, max_horizon, return_X_y)\u001b[0m\n\u001b[0;32m    155\u001b[0m \u001b[39mdef\u001b[39;00m \u001b[39mpreprocess\u001b[39m(\n\u001b[0;32m    156\u001b[0m     \u001b[39mself\u001b[39m,\n\u001b[0;32m    157\u001b[0m     data: pd\u001b[39m.\u001b[39mDataFrame,\n\u001b[1;32m   (...)\u001b[0m\n\u001b[0;32m    165\u001b[0m     return_X_y: \u001b[39mbool\u001b[39m \u001b[39m=\u001b[39m \u001b[39mFalse\u001b[39;00m,\n\u001b[0;32m    166\u001b[0m ) \u001b[39m-\u001b[39m\u001b[39m>\u001b[39m Union[pd\u001b[39m.\u001b[39mDataFrame, Tuple[pd\u001b[39m.\u001b[39mDataFrame, Union[pd\u001b[39m.\u001b[39mSeries, pd\u001b[39m.\u001b[39mDataFrame]]]:\n\u001b[0;32m    167\u001b[0m \u001b[39m    \u001b[39m\u001b[39m\"\"\"Add the features to `data`.\u001b[39;00m\n\u001b[0;32m    168\u001b[0m \n\u001b[0;32m    169\u001b[0m \u001b[39m    Parameters\u001b[39;00m\n\u001b[1;32m   (...)\u001b[0m\n\u001b[0;32m    193\u001b[0m \u001b[39m        `data` plus added features and target(s).\u001b[39;00m\n\u001b[0;32m    194\u001b[0m \u001b[39m    \"\"\"\u001b[39;00m\n\u001b[1;32m--> 195\u001b[0m     \u001b[39mreturn\u001b[39;00m \u001b[39mself\u001b[39;49m\u001b[39m.\u001b[39;49mts\u001b[39m.\u001b[39;49mfit_transform(\n\u001b[0;32m    196\u001b[0m         data,\n\u001b[0;32m    197\u001b[0m         id_col\u001b[39m=\u001b[39;49mid_col,\n\u001b[0;32m    198\u001b[0m         time_col\u001b[39m=\u001b[39;49mtime_col,\n\u001b[0;32m    199\u001b[0m         target_col\u001b[39m=\u001b[39;49mtarget_col,\n\u001b[0;32m    200\u001b[0m         static_features\u001b[39m=\u001b[39;49mstatic_features,\n\u001b[0;32m    201\u001b[0m         dropna\u001b[39m=\u001b[39;49mdropna,\n\u001b[0;32m    202\u001b[0m         keep_last_n\u001b[39m=\u001b[39;49mkeep_last_n,\n\u001b[0;32m    203\u001b[0m         max_horizon\u001b[39m=\u001b[39;49mmax_horizon,\n\u001b[0;32m    204\u001b[0m         return_X_y\u001b[39m=\u001b[39;49mreturn_X_y,\n\u001b[0;32m    205\u001b[0m     )\n",
      "File \u001b[1;32mc:\\Users\\Fikri\\AppData\\Local\\Programs\\Python\\Python311\\Lib\\site-packages\\mlforecast\\core.py:531\u001b[0m, in \u001b[0;36mTimeSeries.fit_transform\u001b[1;34m(self, data, id_col, time_col, target_col, static_features, dropna, keep_last_n, max_horizon, return_X_y)\u001b[0m\n\u001b[0;32m    529\u001b[0m \u001b[39mself\u001b[39m\u001b[39m.\u001b[39mdropna \u001b[39m=\u001b[39m dropna\n\u001b[0;32m    530\u001b[0m \u001b[39mself\u001b[39m\u001b[39m.\u001b[39mkeep_last_n \u001b[39m=\u001b[39m keep_last_n\n\u001b[1;32m--> 531\u001b[0m \u001b[39mself\u001b[39;49m\u001b[39m.\u001b[39;49m_fit(data, id_col, time_col, target_col, static_features, keep_last_n)\n\u001b[0;32m    532\u001b[0m \u001b[39mreturn\u001b[39;00m \u001b[39mself\u001b[39m\u001b[39m.\u001b[39m_transform(\n\u001b[0;32m    533\u001b[0m     data, dropna\u001b[39m=\u001b[39mdropna, max_horizon\u001b[39m=\u001b[39mmax_horizon, return_X_y\u001b[39m=\u001b[39mreturn_X_y\n\u001b[0;32m    534\u001b[0m )\n",
      "File \u001b[1;32mc:\\Users\\Fikri\\AppData\\Local\\Programs\\Python\\Python311\\Lib\\site-packages\\mlforecast\\core.py:383\u001b[0m, in \u001b[0;36mTimeSeries._fit\u001b[1;34m(self, df, id_col, time_col, target_col, static_features, keep_last_n)\u001b[0m\n\u001b[0;32m    381\u001b[0m         _apply_difference(\u001b[39mself\u001b[39m\u001b[39m.\u001b[39mga\u001b[39m.\u001b[39mdata, \u001b[39mself\u001b[39m\u001b[39m.\u001b[39mga\u001b[39m.\u001b[39mindptr, new_data, new_indptr, d)\n\u001b[0;32m    382\u001b[0m         \u001b[39mself\u001b[39m\u001b[39m.\u001b[39moriginal_values_\u001b[39m.\u001b[39mappend(GroupedArray(new_data, new_indptr))\n\u001b[1;32m--> 383\u001b[0m \u001b[39mself\u001b[39m\u001b[39m.\u001b[39mfeatures_ \u001b[39m=\u001b[39m \u001b[39mself\u001b[39;49m\u001b[39m.\u001b[39;49m_compute_transforms()\n\u001b[0;32m    384\u001b[0m \u001b[39mif\u001b[39;00m keep_last_n \u001b[39mis\u001b[39;00m \u001b[39mnot\u001b[39;00m \u001b[39mNone\u001b[39;00m:\n\u001b[0;32m    385\u001b[0m     \u001b[39mself\u001b[39m\u001b[39m.\u001b[39mga \u001b[39m=\u001b[39m \u001b[39mself\u001b[39m\u001b[39m.\u001b[39mga\u001b[39m.\u001b[39mtake_from_groups(\u001b[39mslice\u001b[39m(\u001b[39m-\u001b[39mkeep_last_n, \u001b[39mNone\u001b[39;00m))\n",
      "File \u001b[1;32mc:\\Users\\Fikri\\AppData\\Local\\Programs\\Python\\Python311\\Lib\\site-packages\\mlforecast\\core.py:439\u001b[0m, in \u001b[0;36mTimeSeries._compute_transforms\u001b[1;34m(self)\u001b[0m\n\u001b[0;32m    437\u001b[0m \u001b[39mif\u001b[39;00m \u001b[39mself\u001b[39m\u001b[39m.\u001b[39mnum_threads \u001b[39m==\u001b[39m \u001b[39m1\u001b[39m \u001b[39mor\u001b[39;00m \u001b[39mlen\u001b[39m(\u001b[39mself\u001b[39m\u001b[39m.\u001b[39mtransforms) \u001b[39m==\u001b[39m \u001b[39m1\u001b[39m:\n\u001b[0;32m    438\u001b[0m     \u001b[39mreturn\u001b[39;00m \u001b[39mself\u001b[39m\u001b[39m.\u001b[39m_apply_transforms()\n\u001b[1;32m--> 439\u001b[0m \u001b[39mreturn\u001b[39;00m \u001b[39mself\u001b[39;49m\u001b[39m.\u001b[39;49m_apply_multithreaded_transforms()\n",
      "File \u001b[1;32mc:\\Users\\Fikri\\AppData\\Local\\Programs\\Python\\Python311\\Lib\\concurrent\\futures\\thread.py:58\u001b[0m, in \u001b[0;36m_WorkItem.run\u001b[1;34m(self)\u001b[0m\n\u001b[0;32m     55\u001b[0m     \u001b[39mreturn\u001b[39;00m\n\u001b[0;32m     57\u001b[0m \u001b[39mtry\u001b[39;00m:\n\u001b[1;32m---> 58\u001b[0m     result \u001b[39m=\u001b[39m \u001b[39mself\u001b[39;49m\u001b[39m.\u001b[39;49mfn(\u001b[39m*\u001b[39;49m\u001b[39mself\u001b[39;49m\u001b[39m.\u001b[39;49margs, \u001b[39m*\u001b[39;49m\u001b[39m*\u001b[39;49m\u001b[39mself\u001b[39;49m\u001b[39m.\u001b[39;49mkwargs)\n\u001b[0;32m     59\u001b[0m \u001b[39mexcept\u001b[39;00m \u001b[39mBaseException\u001b[39;00m \u001b[39mas\u001b[39;00m exc:\n\u001b[0;32m     60\u001b[0m     \u001b[39mself\u001b[39m\u001b[39m.\u001b[39mfuture\u001b[39m.\u001b[39mset_exception(exc)\n",
      "File \u001b[1;32mc:\\Users\\Fikri\\AppData\\Local\\Programs\\Python\\Python311\\Lib\\site-packages\\mlforecast\\core.py:180\u001b[0m, in \u001b[0;36mGroupedArray.transform_series\u001b[1;34m(self, updates_only, lag, func, *args)\u001b[0m\n\u001b[0;32m    177\u001b[0m \u001b[39mdef\u001b[39;00m \u001b[39mtransform_series\u001b[39m(\n\u001b[0;32m    178\u001b[0m     \u001b[39mself\u001b[39m, updates_only: \u001b[39mbool\u001b[39m, lag: \u001b[39mint\u001b[39m, func: Callable, \u001b[39m*\u001b[39margs\n\u001b[0;32m    179\u001b[0m ) \u001b[39m-\u001b[39m\u001b[39m>\u001b[39m np\u001b[39m.\u001b[39mndarray:\n\u001b[1;32m--> 180\u001b[0m     \u001b[39mreturn\u001b[39;00m _transform_series(\u001b[39mself\u001b[39;49m\u001b[39m.\u001b[39;49mdata, \u001b[39mself\u001b[39;49m\u001b[39m.\u001b[39;49mindptr, updates_only, lag, func, \u001b[39m*\u001b[39;49margs)\n",
      "File \u001b[1;32mc:\\Users\\Fikri\\AppData\\Local\\Programs\\Python\\Python311\\Lib\\site-packages\\numba\\core\\dispatcher.py:468\u001b[0m, in \u001b[0;36m_DispatcherBase._compile_for_args\u001b[1;34m(self, *args, **kws)\u001b[0m\n\u001b[0;32m    464\u001b[0m         msg \u001b[39m=\u001b[39m (\u001b[39mf\u001b[39m\u001b[39m\"\u001b[39m\u001b[39m{\u001b[39;00m\u001b[39mstr\u001b[39m(e)\u001b[39m.\u001b[39mrstrip()\u001b[39m}\u001b[39;00m\u001b[39m \u001b[39m\u001b[39m\\n\u001b[39;00m\u001b[39m\\n\u001b[39;00m\u001b[39mThis error may have been caused \u001b[39m\u001b[39m\"\u001b[39m\n\u001b[0;32m    465\u001b[0m                \u001b[39mf\u001b[39m\u001b[39m\"\u001b[39m\u001b[39mby the following argument(s):\u001b[39m\u001b[39m\\n\u001b[39;00m\u001b[39m{\u001b[39;00margs_str\u001b[39m}\u001b[39;00m\u001b[39m\\n\u001b[39;00m\u001b[39m\"\u001b[39m)\n\u001b[0;32m    466\u001b[0m         e\u001b[39m.\u001b[39mpatch_message(msg)\n\u001b[1;32m--> 468\u001b[0m     error_rewrite(e, \u001b[39m'\u001b[39;49m\u001b[39mtyping\u001b[39;49m\u001b[39m'\u001b[39;49m)\n\u001b[0;32m    469\u001b[0m \u001b[39mexcept\u001b[39;00m errors\u001b[39m.\u001b[39mUnsupportedError \u001b[39mas\u001b[39;00m e:\n\u001b[0;32m    470\u001b[0m     \u001b[39m# Something unsupported is present in the user code, add help info\u001b[39;00m\n\u001b[0;32m    471\u001b[0m     error_rewrite(e, \u001b[39m'\u001b[39m\u001b[39munsupported_error\u001b[39m\u001b[39m'\u001b[39m)\n",
      "File \u001b[1;32mc:\\Users\\Fikri\\AppData\\Local\\Programs\\Python\\Python311\\Lib\\site-packages\\numba\\core\\dispatcher.py:409\u001b[0m, in \u001b[0;36m_DispatcherBase._compile_for_args.<locals>.error_rewrite\u001b[1;34m(e, issue_type)\u001b[0m\n\u001b[0;32m    407\u001b[0m     \u001b[39mraise\u001b[39;00m e\n\u001b[0;32m    408\u001b[0m \u001b[39melse\u001b[39;00m:\n\u001b[1;32m--> 409\u001b[0m     \u001b[39mraise\u001b[39;00m e\u001b[39m.\u001b[39mwith_traceback(\u001b[39mNone\u001b[39;00m)\n",
      "\u001b[1;31mTypingError\u001b[0m: Failed in nopython mode pipeline (step: nopython frontend)\n\u001b[1m\u001b[1mnon-precise type pyobject\u001b[0m\n\u001b[0m\u001b[1mDuring: typing of argument at c:\\Users\\Fikri\\AppData\\Local\\Programs\\Python\\Python311\\Lib\\site-packages\\mlforecast\\core.py (74)\u001b[0m\n\u001b[1m\nFile \"c:\\Users\\Fikri\\AppData\\Local\\Programs\\Python\\Python311\\Lib\\site-packages\\mlforecast\\core.py\", line 74:\u001b[0m\n\u001b[1mdef _as_tuple(x):\n    <source elided>\n\n\u001b[1m@njit(nogil=True)\n\u001b[0m\u001b[1m^\u001b[0m\u001b[0m \n\nThis error may have been caused by the following argument(s):\n- argument 4: \u001b[1mCannot determine Numba type of <class 'function'>\u001b[0m \n\nThis error may have been caused by the following argument(s):\n- argument 4: \u001b[1mCannot determine Numba type of <class 'function'>\u001b[0m\n"
     ]
    }
   ],
   "source": [
    "model.fit(train, id_col='unique_id', time_col='ds', target_col='y', static_features=[])\n",
    "\n",
    "p = model.predict(horizon=90, dynamic_dfs=[valid[['unique_id', 'ds']]])\n",
    "p = p.merge(valid[['unique_id', 'ds', 'y']], on=['unique_id', 'ds'], how='left')"
   ]
  },
  {
   "cell_type": "code",
   "execution_count": 179,
   "metadata": {},
   "outputs": [
    {
     "ename": "TypingError",
     "evalue": "Failed in nopython mode pipeline (step: nopython frontend)\n\u001b[1m\u001b[1mnon-precise type pyobject\u001b[0m\n\u001b[0m\u001b[1mDuring: typing of argument at c:\\Users\\Fikri\\AppData\\Local\\Programs\\Python\\Python311\\Lib\\site-packages\\mlforecast\\grouped_array.py (16)\u001b[0m\n\u001b[1m\nFile \"c:\\Users\\Fikri\\AppData\\Local\\Programs\\Python\\Python311\\Lib\\site-packages\\mlforecast\\grouped_array.py\", line 16:\u001b[0m\n\u001b[1m# %% ../nbs/grouped_array.ipynb 2\n\u001b[1m@njit(nogil=True)\n\u001b[0m\u001b[1m^\u001b[0m\u001b[0m \n\nThis error may have been caused by the following argument(s):\n- argument 4: \u001b[1mCannot determine Numba type of <class 'function'>\u001b[0m \n\nThis error may have been caused by the following argument(s):\n- argument 4: \u001b[1mCannot determine Numba type of <class 'function'>\u001b[0m \n\nThis error may have been caused by the following argument(s):\n- argument 4: \u001b[1mCannot determine Numba type of <class 'function'>\u001b[0m \n\nThis error may have been caused by the following argument(s):\n- argument 4: \u001b[1mCannot determine Numba type of <class 'function'>\u001b[0m \n\nThis error may have been caused by the following argument(s):\n- argument 4: \u001b[1mCannot determine Numba type of <class 'function'>\u001b[0m \n\nThis error may have been caused by the following argument(s):\n- argument 4: \u001b[1mCannot determine Numba type of <class 'function'>\u001b[0m \n\nThis error may have been caused by the following argument(s):\n- argument 4: \u001b[1mCannot determine Numba type of <class 'function'>\u001b[0m \n\nThis error may have been caused by the following argument(s):\n- argument 4: \u001b[1mCannot determine Numba type of <class 'function'>\u001b[0m \n\nThis error may have been caused by the following argument(s):\n- argument 4: \u001b[1mCannot determine Numba type of <class 'function'>\u001b[0m \n\nThis error may have been caused by the following argument(s):\n- argument 4: \u001b[1mCannot determine Numba type of <class 'function'>\u001b[0m \n\nThis error may have been caused by the following argument(s):\n- argument 4: \u001b[1mCannot determine Numba type of <class 'function'>\u001b[0m \n\nThis error may have been caused by the following argument(s):\n- argument 4: \u001b[1mCannot determine Numba type of <class 'function'>\u001b[0m \n\nThis error may have been caused by the following argument(s):\n- argument 4: \u001b[1mCannot determine Numba type of <class 'function'>\u001b[0m \n\nThis error may have been caused by the following argument(s):\n- argument 4: \u001b[1mCannot determine Numba type of <class 'function'>\u001b[0m \n\nThis error may have been caused by the following argument(s):\n- argument 4: \u001b[1mCannot determine Numba type of <class 'function'>\u001b[0m \n\nThis error may have been caused by the following argument(s):\n- argument 4: \u001b[1mCannot determine Numba type of <class 'function'>\u001b[0m \n\nThis error may have been caused by the following argument(s):\n- argument 4: \u001b[1mCannot determine Numba type of <class 'function'>\u001b[0m \n\nThis error may have been caused by the following argument(s):\n- argument 4: \u001b[1mCannot determine Numba type of <class 'function'>\u001b[0m \n\nThis error may have been caused by the following argument(s):\n- argument 4: \u001b[1mCannot determine Numba type of <class 'function'>\u001b[0m \n\nThis error may have been caused by the following argument(s):\n- argument 4: \u001b[1mCannot determine Numba type of <class 'function'>\u001b[0m \n\nThis error may have been caused by the following argument(s):\n- argument 4: \u001b[1mCannot determine Numba type of <class 'function'>\u001b[0m \n\nThis error may have been caused by the following argument(s):\n- argument 4: \u001b[1mCannot determine Numba type of <class 'function'>\u001b[0m \n\nThis error may have been caused by the following argument(s):\n- argument 4: \u001b[1mCannot determine Numba type of <class 'function'>\u001b[0m \n\nThis error may have been caused by the following argument(s):\n- argument 4: \u001b[1mCannot determine Numba type of <class 'function'>\u001b[0m \n\nThis error may have been caused by the following argument(s):\n- argument 4: \u001b[1mCannot determine Numba type of <class 'function'>\u001b[0m \n\nThis error may have been caused by the following argument(s):\n- argument 4: \u001b[1mCannot determine Numba type of <class 'function'>\u001b[0m \n\nThis error may have been caused by the following argument(s):\n- argument 4: \u001b[1mCannot determine Numba type of <class 'function'>\u001b[0m \n\nThis error may have been caused by the following argument(s):\n- argument 4: \u001b[1mCannot determine Numba type of <class 'function'>\u001b[0m \n\nThis error may have been caused by the following argument(s):\n- argument 4: \u001b[1mCannot determine Numba type of <class 'function'>\u001b[0m \n\nThis error may have been caused by the following argument(s):\n- argument 4: \u001b[1mCannot determine Numba type of <class 'function'>\u001b[0m \n\nThis error may have been caused by the following argument(s):\n- argument 4: \u001b[1mCannot determine Numba type of <class 'function'>\u001b[0m \n\nThis error may have been caused by the following argument(s):\n- argument 4: \u001b[1mCannot determine Numba type of <class 'function'>\u001b[0m\n",
     "output_type": "error",
     "traceback": [
      "\u001b[1;31m---------------------------------------------------------------------------\u001b[0m",
      "\u001b[1;31mTypingError\u001b[0m                               Traceback (most recent call last)",
      "Cell \u001b[1;32mIn[179], line 1\u001b[0m\n\u001b[1;32m----> 1\u001b[0m model\u001b[39m.\u001b[39;49mpreprocess(train, id_col\u001b[39m=\u001b[39;49m\u001b[39m'\u001b[39;49m\u001b[39munique_id\u001b[39;49m\u001b[39m'\u001b[39;49m, time_col\u001b[39m=\u001b[39;49m\u001b[39m'\u001b[39;49m\u001b[39mds\u001b[39;49m\u001b[39m'\u001b[39;49m, target_col\u001b[39m=\u001b[39;49m\u001b[39m'\u001b[39;49m\u001b[39my\u001b[39;49m\u001b[39m'\u001b[39;49m, static_features\u001b[39m=\u001b[39;49m[])\n",
      "File \u001b[1;32mc:\\Users\\Fikri\\AppData\\Local\\Programs\\Python\\Python311\\Lib\\site-packages\\mlforecast\\utils.py:186\u001b[0m, in \u001b[0;36mold_kw_to_pos.<locals>.decorator.<locals>.inner\u001b[1;34m(*args, **kwargs)\u001b[0m\n\u001b[0;32m    184\u001b[0m                 new_args\u001b[39m.\u001b[39mappend(kwargs\u001b[39m.\u001b[39mpop(arg_names[i]))\n\u001b[0;32m    185\u001b[0m             new_args\u001b[39m.\u001b[39mappend(kwargs\u001b[39m.\u001b[39mpop(old_name))\n\u001b[1;32m--> 186\u001b[0m \u001b[39mreturn\u001b[39;00m f(\u001b[39m*\u001b[39;49mnew_args, \u001b[39m*\u001b[39;49m\u001b[39m*\u001b[39;49mkwargs)\n",
      "File \u001b[1;32mc:\\Users\\Fikri\\AppData\\Local\\Programs\\Python\\Python311\\Lib\\site-packages\\mlforecast\\forecast.py:241\u001b[0m, in \u001b[0;36mMLForecast.preprocess\u001b[1;34m(self, df, id_col, time_col, target_col, static_features, dropna, keep_last_n, max_horizon, return_X_y, data)\u001b[0m\n\u001b[0;32m    196\u001b[0m \u001b[39m@old_kw_to_pos\u001b[39m([\u001b[39m\"\u001b[39m\u001b[39mdata\u001b[39m\u001b[39m\"\u001b[39m], [\u001b[39m1\u001b[39m])\n\u001b[0;32m    197\u001b[0m \u001b[39mdef\u001b[39;00m \u001b[39mpreprocess\u001b[39m(\n\u001b[0;32m    198\u001b[0m     \u001b[39mself\u001b[39m,\n\u001b[1;32m   (...)\u001b[0m\n\u001b[0;32m    209\u001b[0m     data: Optional[pd\u001b[39m.\u001b[39mDataFrame] \u001b[39m=\u001b[39m \u001b[39mNone\u001b[39;00m,  \u001b[39m# noqa: ARG002\u001b[39;00m\n\u001b[0;32m    210\u001b[0m ) \u001b[39m-\u001b[39m\u001b[39m>\u001b[39m Union[pd\u001b[39m.\u001b[39mDataFrame, Tuple[pd\u001b[39m.\u001b[39mDataFrame, Union[pd\u001b[39m.\u001b[39mSeries, pd\u001b[39m.\u001b[39mDataFrame]]]:\n\u001b[0;32m    211\u001b[0m \u001b[39m    \u001b[39m\u001b[39m\"\"\"Add the features to `data`.\u001b[39;00m\n\u001b[0;32m    212\u001b[0m \n\u001b[0;32m    213\u001b[0m \u001b[39m    Parameters\u001b[39;00m\n\u001b[1;32m   (...)\u001b[0m\n\u001b[0;32m    239\u001b[0m \u001b[39m        `df` plus added features and target(s).\u001b[39;00m\n\u001b[0;32m    240\u001b[0m \u001b[39m    \"\"\"\u001b[39;00m\n\u001b[1;32m--> 241\u001b[0m     \u001b[39mreturn\u001b[39;00m \u001b[39mself\u001b[39;49m\u001b[39m.\u001b[39;49mts\u001b[39m.\u001b[39;49mfit_transform(\n\u001b[0;32m    242\u001b[0m         df,\n\u001b[0;32m    243\u001b[0m         id_col\u001b[39m=\u001b[39;49mid_col,\n\u001b[0;32m    244\u001b[0m         time_col\u001b[39m=\u001b[39;49mtime_col,\n\u001b[0;32m    245\u001b[0m         target_col\u001b[39m=\u001b[39;49mtarget_col,\n\u001b[0;32m    246\u001b[0m         static_features\u001b[39m=\u001b[39;49mstatic_features,\n\u001b[0;32m    247\u001b[0m         dropna\u001b[39m=\u001b[39;49mdropna,\n\u001b[0;32m    248\u001b[0m         keep_last_n\u001b[39m=\u001b[39;49mkeep_last_n,\n\u001b[0;32m    249\u001b[0m         max_horizon\u001b[39m=\u001b[39;49mmax_horizon,\n\u001b[0;32m    250\u001b[0m         return_X_y\u001b[39m=\u001b[39;49mreturn_X_y,\n\u001b[0;32m    251\u001b[0m     )\n",
      "File \u001b[1;32mc:\\Users\\Fikri\\AppData\\Local\\Programs\\Python\\Python311\\Lib\\site-packages\\mlforecast\\core.py:395\u001b[0m, in \u001b[0;36mTimeSeries.fit_transform\u001b[1;34m(self, data, id_col, time_col, target_col, static_features, dropna, keep_last_n, max_horizon, return_X_y)\u001b[0m\n\u001b[0;32m    393\u001b[0m \u001b[39mself\u001b[39m\u001b[39m.\u001b[39mdropna \u001b[39m=\u001b[39m dropna\n\u001b[0;32m    394\u001b[0m \u001b[39mself\u001b[39m\u001b[39m.\u001b[39m_fit(data, id_col, time_col, target_col, static_features, keep_last_n)\n\u001b[1;32m--> 395\u001b[0m \u001b[39mreturn\u001b[39;00m \u001b[39mself\u001b[39;49m\u001b[39m.\u001b[39;49m_transform(\n\u001b[0;32m    396\u001b[0m     data, dropna\u001b[39m=\u001b[39;49mdropna, max_horizon\u001b[39m=\u001b[39;49mmax_horizon, return_X_y\u001b[39m=\u001b[39;49mreturn_X_y\n\u001b[0;32m    397\u001b[0m )\n",
      "File \u001b[1;32mc:\\Users\\Fikri\\AppData\\Local\\Programs\\Python\\Python311\\Lib\\site-packages\\mlforecast\\core.py:325\u001b[0m, in \u001b[0;36mTimeSeries._transform\u001b[1;34m(self, df, dropna, max_horizon, return_X_y)\u001b[0m\n\u001b[0;32m    314\u001b[0m \u001b[39mdef\u001b[39;00m \u001b[39m_transform\u001b[39m(\n\u001b[0;32m    315\u001b[0m     \u001b[39mself\u001b[39m,\n\u001b[0;32m    316\u001b[0m     df: pd\u001b[39m.\u001b[39mDataFrame,\n\u001b[1;32m   (...)\u001b[0m\n\u001b[0;32m    319\u001b[0m     return_X_y: \u001b[39mbool\u001b[39m \u001b[39m=\u001b[39m \u001b[39mFalse\u001b[39;00m,\n\u001b[0;32m    320\u001b[0m ) \u001b[39m-\u001b[39m\u001b[39m>\u001b[39m pd\u001b[39m.\u001b[39mDataFrame:\n\u001b[0;32m    321\u001b[0m \u001b[39m    \u001b[39m\u001b[39m\"\"\"Add the features to `df`.\u001b[39;00m\n\u001b[0;32m    322\u001b[0m \n\u001b[0;32m    323\u001b[0m \u001b[39m    if `dropna=True` then all the null rows are dropped.\"\"\"\u001b[39;00m\n\u001b[0;32m    324\u001b[0m     features \u001b[39m=\u001b[39m {\n\u001b[1;32m--> 325\u001b[0m         k: v[\u001b[39mself\u001b[39m\u001b[39m.\u001b[39mrestore_idxs] \u001b[39mfor\u001b[39;00m k, v \u001b[39min\u001b[39;00m \u001b[39mself\u001b[39;49m\u001b[39m.\u001b[39;49m_compute_transforms()\u001b[39m.\u001b[39mitems()\n\u001b[0;32m    326\u001b[0m     }\n\u001b[0;32m    328\u001b[0m     \u001b[39m# target\u001b[39;00m\n\u001b[0;32m    329\u001b[0m     \u001b[39mself\u001b[39m\u001b[39m.\u001b[39mmax_horizon \u001b[39m=\u001b[39m max_horizon\n",
      "File \u001b[1;32mc:\\Users\\Fikri\\AppData\\Local\\Programs\\Python\\Python311\\Lib\\site-packages\\mlforecast\\core.py:297\u001b[0m, in \u001b[0;36mTimeSeries._compute_transforms\u001b[1;34m(self)\u001b[0m\n\u001b[0;32m    295\u001b[0m \u001b[39mif\u001b[39;00m \u001b[39mself\u001b[39m\u001b[39m.\u001b[39mnum_threads \u001b[39m==\u001b[39m \u001b[39m1\u001b[39m \u001b[39mor\u001b[39;00m \u001b[39mlen\u001b[39m(\u001b[39mself\u001b[39m\u001b[39m.\u001b[39mtransforms) \u001b[39m==\u001b[39m \u001b[39m1\u001b[39m:\n\u001b[0;32m    296\u001b[0m     \u001b[39mreturn\u001b[39;00m \u001b[39mself\u001b[39m\u001b[39m.\u001b[39m_apply_transforms()\n\u001b[1;32m--> 297\u001b[0m \u001b[39mreturn\u001b[39;00m \u001b[39mself\u001b[39;49m\u001b[39m.\u001b[39;49m_apply_multithreaded_transforms()\n",
      "File \u001b[1;32mc:\\Users\\Fikri\\AppData\\Local\\Programs\\Python\\Python311\\Lib\\concurrent\\futures\\thread.py:58\u001b[0m, in \u001b[0;36m_WorkItem.run\u001b[1;34m(self)\u001b[0m\n\u001b[0;32m     55\u001b[0m     \u001b[39mreturn\u001b[39;00m\n\u001b[0;32m     57\u001b[0m \u001b[39mtry\u001b[39;00m:\n\u001b[1;32m---> 58\u001b[0m     result \u001b[39m=\u001b[39m \u001b[39mself\u001b[39;49m\u001b[39m.\u001b[39;49mfn(\u001b[39m*\u001b[39;49m\u001b[39mself\u001b[39;49m\u001b[39m.\u001b[39;49margs, \u001b[39m*\u001b[39;49m\u001b[39m*\u001b[39;49m\u001b[39mself\u001b[39;49m\u001b[39m.\u001b[39;49mkwargs)\n\u001b[0;32m     59\u001b[0m \u001b[39mexcept\u001b[39;00m \u001b[39mBaseException\u001b[39;00m \u001b[39mas\u001b[39;00m exc:\n\u001b[0;32m     60\u001b[0m     \u001b[39mself\u001b[39m\u001b[39m.\u001b[39mfuture\u001b[39m.\u001b[39mset_exception(exc)\n",
      "File \u001b[1;32mc:\\Users\\Fikri\\AppData\\Local\\Programs\\Python\\Python311\\Lib\\site-packages\\mlforecast\\grouped_array.py:171\u001b[0m, in \u001b[0;36mGroupedArray.transform_series\u001b[1;34m(self, updates_only, lag, func, *args)\u001b[0m\n\u001b[0;32m    168\u001b[0m \u001b[39mdef\u001b[39;00m \u001b[39mtransform_series\u001b[39m(\n\u001b[0;32m    169\u001b[0m     \u001b[39mself\u001b[39m, updates_only: \u001b[39mbool\u001b[39m, lag: \u001b[39mint\u001b[39m, func: Callable, \u001b[39m*\u001b[39margs\n\u001b[0;32m    170\u001b[0m ) \u001b[39m-\u001b[39m\u001b[39m>\u001b[39m np\u001b[39m.\u001b[39mndarray:\n\u001b[1;32m--> 171\u001b[0m     \u001b[39mreturn\u001b[39;00m _transform_series(\u001b[39mself\u001b[39;49m\u001b[39m.\u001b[39;49mdata, \u001b[39mself\u001b[39;49m\u001b[39m.\u001b[39;49mindptr, updates_only, lag, func, \u001b[39m*\u001b[39;49margs)\n",
      "File \u001b[1;32mc:\\Users\\Fikri\\AppData\\Local\\Programs\\Python\\Python311\\Lib\\site-packages\\numba\\core\\dispatcher.py:468\u001b[0m, in \u001b[0;36m_DispatcherBase._compile_for_args\u001b[1;34m(self, *args, **kws)\u001b[0m\n\u001b[0;32m    464\u001b[0m         msg \u001b[39m=\u001b[39m (\u001b[39mf\u001b[39m\u001b[39m\"\u001b[39m\u001b[39m{\u001b[39;00m\u001b[39mstr\u001b[39m(e)\u001b[39m.\u001b[39mrstrip()\u001b[39m}\u001b[39;00m\u001b[39m \u001b[39m\u001b[39m\\n\u001b[39;00m\u001b[39m\\n\u001b[39;00m\u001b[39mThis error may have been caused \u001b[39m\u001b[39m\"\u001b[39m\n\u001b[0;32m    465\u001b[0m                \u001b[39mf\u001b[39m\u001b[39m\"\u001b[39m\u001b[39mby the following argument(s):\u001b[39m\u001b[39m\\n\u001b[39;00m\u001b[39m{\u001b[39;00margs_str\u001b[39m}\u001b[39;00m\u001b[39m\\n\u001b[39;00m\u001b[39m\"\u001b[39m)\n\u001b[0;32m    466\u001b[0m         e\u001b[39m.\u001b[39mpatch_message(msg)\n\u001b[1;32m--> 468\u001b[0m     error_rewrite(e, \u001b[39m'\u001b[39;49m\u001b[39mtyping\u001b[39;49m\u001b[39m'\u001b[39;49m)\n\u001b[0;32m    469\u001b[0m \u001b[39mexcept\u001b[39;00m errors\u001b[39m.\u001b[39mUnsupportedError \u001b[39mas\u001b[39;00m e:\n\u001b[0;32m    470\u001b[0m     \u001b[39m# Something unsupported is present in the user code, add help info\u001b[39;00m\n\u001b[0;32m    471\u001b[0m     error_rewrite(e, \u001b[39m'\u001b[39m\u001b[39munsupported_error\u001b[39m\u001b[39m'\u001b[39m)\n",
      "File \u001b[1;32mc:\\Users\\Fikri\\AppData\\Local\\Programs\\Python\\Python311\\Lib\\site-packages\\numba\\core\\dispatcher.py:409\u001b[0m, in \u001b[0;36m_DispatcherBase._compile_for_args.<locals>.error_rewrite\u001b[1;34m(e, issue_type)\u001b[0m\n\u001b[0;32m    407\u001b[0m     \u001b[39mraise\u001b[39;00m e\n\u001b[0;32m    408\u001b[0m \u001b[39melse\u001b[39;00m:\n\u001b[1;32m--> 409\u001b[0m     \u001b[39mraise\u001b[39;00m e\u001b[39m.\u001b[39mwith_traceback(\u001b[39mNone\u001b[39;00m)\n",
      "\u001b[1;31mTypingError\u001b[0m: Failed in nopython mode pipeline (step: nopython frontend)\n\u001b[1m\u001b[1mnon-precise type pyobject\u001b[0m\n\u001b[0m\u001b[1mDuring: typing of argument at c:\\Users\\Fikri\\AppData\\Local\\Programs\\Python\\Python311\\Lib\\site-packages\\mlforecast\\grouped_array.py (16)\u001b[0m\n\u001b[1m\nFile \"c:\\Users\\Fikri\\AppData\\Local\\Programs\\Python\\Python311\\Lib\\site-packages\\mlforecast\\grouped_array.py\", line 16:\u001b[0m\n\u001b[1m# %% ../nbs/grouped_array.ipynb 2\n\u001b[1m@njit(nogil=True)\n\u001b[0m\u001b[1m^\u001b[0m\u001b[0m \n\nThis error may have been caused by the following argument(s):\n- argument 4: \u001b[1mCannot determine Numba type of <class 'function'>\u001b[0m \n\nThis error may have been caused by the following argument(s):\n- argument 4: \u001b[1mCannot determine Numba type of <class 'function'>\u001b[0m \n\nThis error may have been caused by the following argument(s):\n- argument 4: \u001b[1mCannot determine Numba type of <class 'function'>\u001b[0m \n\nThis error may have been caused by the following argument(s):\n- argument 4: \u001b[1mCannot determine Numba type of <class 'function'>\u001b[0m \n\nThis error may have been caused by the following argument(s):\n- argument 4: \u001b[1mCannot determine Numba type of <class 'function'>\u001b[0m \n\nThis error may have been caused by the following argument(s):\n- argument 4: \u001b[1mCannot determine Numba type of <class 'function'>\u001b[0m \n\nThis error may have been caused by the following argument(s):\n- argument 4: \u001b[1mCannot determine Numba type of <class 'function'>\u001b[0m \n\nThis error may have been caused by the following argument(s):\n- argument 4: \u001b[1mCannot determine Numba type of <class 'function'>\u001b[0m \n\nThis error may have been caused by the following argument(s):\n- argument 4: \u001b[1mCannot determine Numba type of <class 'function'>\u001b[0m \n\nThis error may have been caused by the following argument(s):\n- argument 4: \u001b[1mCannot determine Numba type of <class 'function'>\u001b[0m \n\nThis error may have been caused by the following argument(s):\n- argument 4: \u001b[1mCannot determine Numba type of <class 'function'>\u001b[0m \n\nThis error may have been caused by the following argument(s):\n- argument 4: \u001b[1mCannot determine Numba type of <class 'function'>\u001b[0m \n\nThis error may have been caused by the following argument(s):\n- argument 4: \u001b[1mCannot determine Numba type of <class 'function'>\u001b[0m \n\nThis error may have been caused by the following argument(s):\n- argument 4: \u001b[1mCannot determine Numba type of <class 'function'>\u001b[0m \n\nThis error may have been caused by the following argument(s):\n- argument 4: \u001b[1mCannot determine Numba type of <class 'function'>\u001b[0m \n\nThis error may have been caused by the following argument(s):\n- argument 4: \u001b[1mCannot determine Numba type of <class 'function'>\u001b[0m \n\nThis error may have been caused by the following argument(s):\n- argument 4: \u001b[1mCannot determine Numba type of <class 'function'>\u001b[0m \n\nThis error may have been caused by the following argument(s):\n- argument 4: \u001b[1mCannot determine Numba type of <class 'function'>\u001b[0m \n\nThis error may have been caused by the following argument(s):\n- argument 4: \u001b[1mCannot determine Numba type of <class 'function'>\u001b[0m \n\nThis error may have been caused by the following argument(s):\n- argument 4: \u001b[1mCannot determine Numba type of <class 'function'>\u001b[0m \n\nThis error may have been caused by the following argument(s):\n- argument 4: \u001b[1mCannot determine Numba type of <class 'function'>\u001b[0m \n\nThis error may have been caused by the following argument(s):\n- argument 4: \u001b[1mCannot determine Numba type of <class 'function'>\u001b[0m \n\nThis error may have been caused by the following argument(s):\n- argument 4: \u001b[1mCannot determine Numba type of <class 'function'>\u001b[0m \n\nThis error may have been caused by the following argument(s):\n- argument 4: \u001b[1mCannot determine Numba type of <class 'function'>\u001b[0m \n\nThis error may have been caused by the following argument(s):\n- argument 4: \u001b[1mCannot determine Numba type of <class 'function'>\u001b[0m \n\nThis error may have been caused by the following argument(s):\n- argument 4: \u001b[1mCannot determine Numba type of <class 'function'>\u001b[0m \n\nThis error may have been caused by the following argument(s):\n- argument 4: \u001b[1mCannot determine Numba type of <class 'function'>\u001b[0m \n\nThis error may have been caused by the following argument(s):\n- argument 4: \u001b[1mCannot determine Numba type of <class 'function'>\u001b[0m \n\nThis error may have been caused by the following argument(s):\n- argument 4: \u001b[1mCannot determine Numba type of <class 'function'>\u001b[0m \n\nThis error may have been caused by the following argument(s):\n- argument 4: \u001b[1mCannot determine Numba type of <class 'function'>\u001b[0m \n\nThis error may have been caused by the following argument(s):\n- argument 4: \u001b[1mCannot determine Numba type of <class 'function'>\u001b[0m \n\nThis error may have been caused by the following argument(s):\n- argument 4: \u001b[1mCannot determine Numba type of <class 'function'>\u001b[0m\n"
     ]
    }
   ],
   "source": [
    "model.preprocess(train, id_col='unique_id', time_col='ds', target_col='y', static_features=[])"
   ]
  },
  {
   "cell_type": "code",
   "execution_count": null,
   "metadata": {},
   "outputs": [
    {
     "ename": "NameError",
     "evalue": "name 'model' is not defined",
     "output_type": "error",
     "traceback": [
      "\u001b[1;31m---------------------------------------------------------------------------\u001b[0m",
      "\u001b[1;31mNameError\u001b[0m                                 Traceback (most recent call last)",
      "Cell \u001b[1;32mIn[15], line 1\u001b[0m\n\u001b[1;32m----> 1\u001b[0m model\u001b[39m.\u001b[39mfit(train, id_col\u001b[39m=\u001b[39m\u001b[39m'\u001b[39m\u001b[39munique_id\u001b[39m\u001b[39m'\u001b[39m, time_col\u001b[39m=\u001b[39m\u001b[39m'\u001b[39m\u001b[39mds\u001b[39m\u001b[39m'\u001b[39m, target_col\u001b[39m=\u001b[39m\u001b[39m'\u001b[39m\u001b[39my\u001b[39m\u001b[39m'\u001b[39m,\n\u001b[0;32m      2\u001b[0m             static_features\u001b[39m=\u001b[39m[], max_horizon\u001b[39m=\u001b[39m\u001b[39m90\u001b[39m)\n",
      "\u001b[1;31mNameError\u001b[0m: name 'model' is not defined"
     ]
    }
   ],
   "source": [
    "model.fit(train, id_col='unique_id', time_col='ds', target_col='y',\n",
    "            static_features=[], max_horizon=90)"
   ]
  },
  {
   "cell_type": "code",
   "execution_count": null,
   "metadata": {},
   "outputs": [],
   "source": [
    "pd.Series(model.models_['RandomForestRegressor'].feature_importances_, index=model.ts.features_order_).sort_values(ascending=False).plot.bar(\n",
    "            figsize=(1280/96,720/96), title='RandomForestRegressor Feature Importance', xlabel='Features', ylabel='Importance')"
   ]
  },
  {
   "cell_type": "code",
   "execution_count": null,
   "metadata": {},
   "outputs": [],
   "source": [
    "def wmape(y_true, y_pred):\n",
    "    return np.abs(y_true - y_pred).sum() / np.abs(y_true).sum()\n",
    "\n",
    "print(f\"WMAPE RandomForestRegressor: {wmape(p['y'], p['RandomForestRegressor'])}\\nWMAPE ExtraTreesRegressor: {wmape(p['y'], p['ExtraTreesRegressor'])}\")"
   ]
  },
  {
   "cell_type": "code",
   "execution_count": null,
   "metadata": {},
   "outputs": [],
   "source": [
    "for model in ['RandomForestRegressor', 'ExtraTreesRegressor']:\n",
    "    fig,ax = plt.subplots(2,1, figsize=(1280/96, 720/96))\n",
    "    for ax_, family in enumerate(['MEATS', 'PERSONAL CARE']):\n",
    "        p.loc[p['unique_id'] == family].plot(x='ds', y='y', ax=ax[ax_], label='y', title=family, linewidth=2)\n",
    "        p.loc[p['unique_id'] == family].plot(x='ds', y=model, ax=ax[ax_], label=model)\n",
    "        ax[ax_].set_xlabel('Date')\n",
    "        ax[ax_].set_ylabel('Sales')\n",
    "        fig.tight_layout()"
   ]
  },
  {
   "cell_type": "code",
   "execution_count": null,
   "metadata": {},
   "outputs": [],
   "source": [
    "## Train - Test Split\n",
    "import pandas as pd\n",
    "import numpy as np\n",
    "from sklearn.linear_model import LinearRegression\n",
    "from sklearn.model_selection import train_test_split\n",
    "import matplotlib.pyplot as plt\n",
    "\n",
    "# Function to calculate sMAPE\n",
    "def smape(actual, forecast):\n",
    "    return 100 * np.mean(2 * np.abs(forecast - actual) / (np.abs(actual) + np.abs(forecast)))\n",
    "\n",
    "X = train_df.drop(columns=['rerata_kecepatan'])\n",
    "# X = train_df.drop(columns=['rerata_kecepatan', 'lanes', 'lanes_forward', 'lanes_backward'])\n",
    "# X = train_df.drop(columns=['rerata_kecepatan', 'busway', 'lanes_forward', 'lanes_backward'])\n",
    "\n",
    "y = train_df['rerata_kecepatan']\n",
    "\n",
    "X_train, X_test, y_train, y_test = train_test_split(X, y, test_size=0.3, random_state=42)\n"
   ]
  },
  {
   "cell_type": "code",
   "execution_count": null,
   "metadata": {},
   "outputs": [
    {
     "name": "stdout",
     "output_type": "stream",
     "text": [
      "Linear Regression sMAPE: 13.136204649322124\n"
     ]
    }
   ],
   "source": [
    "# Linear Regression\n",
    "linear_reg_model = LinearRegression()\n",
    "linear_reg_model.fit(X_train, y_train)\n",
    "y_pred_linear_reg = linear_reg_model.predict(X_test)\n",
    "smape_linear_reg = smape(y_test, y_pred_linear_reg)\n",
    "print(\"Linear Regression sMAPE:\", smape_linear_reg)"
   ]
  },
  {
   "cell_type": "code",
   "execution_count": null,
   "metadata": {},
   "outputs": [
    {
     "name": "stdout",
     "output_type": "stream",
     "text": [
      "XGBoost sMAPE: 7.047006110646537\n"
     ]
    }
   ],
   "source": [
    "from xgboost import XGBRegressor\n",
    "\n",
    "# XGBRegressor\n",
    "xgb_model = XGBRegressor()\n",
    "xgb_model.fit(X_train, y_train)\n",
    "y_pred_xgb = xgb_model.predict(X_test)\n",
    "smape_xgb = smape(y_test, y_pred_xgb)\n",
    "print(\"XGBoost sMAPE:\", smape_xgb)"
   ]
  },
  {
   "cell_type": "code",
   "execution_count": null,
   "metadata": {},
   "outputs": [
    {
     "name": "stdout",
     "output_type": "stream",
     "text": [
      "KNeighborsRegressor sMAPE: 10.38237706814166\n"
     ]
    }
   ],
   "source": [
    "# KNeighborsRegressor\n",
    "import numpy as np\n",
    "from sklearn.neighbors import KNeighborsRegressor\n",
    "from sklearn.model_selection import train_test_split\n",
    "\n",
    "# Create and train the KNeighborsRegressor model\n",
    "knn_model = KNeighborsRegressor(n_neighbors=5, weights='uniform')  # You can change the hyperparameters here\n",
    "knn_model.fit(X_train, y_train)\n",
    "\n",
    "# Make predictions on the test set\n",
    "y_pred_knn = knn_model.predict(X_test)\n",
    "\n",
    "# Calculate sMAPE\n",
    "smape_knn = smape(y_test, y_pred_knn)\n",
    "\n",
    "# Print the sMAPE score\n",
    "print(\"KNeighborsRegressor sMAPE:\", smape_knn)"
   ]
  },
  {
   "cell_type": "code",
   "execution_count": null,
   "metadata": {},
   "outputs": [],
   "source": [
    "# RandomForestRegressor\n",
    "import numpy as np\n",
    "from sklearn.ensemble import RandomForestRegressor\n",
    "from sklearn.model_selection import train_test_split\n",
    "\n",
    "# Create and train the RandomForestRegressor model\n",
    "rf_model = RandomForestRegressor(n_estimators=100, random_state=42)  # You can change the hyperparameters here\n",
    "rf_model.fit(X_train, y_train)\n",
    "\n",
    "# Make predictions on the test set\n",
    "y_pred_rf = rf_model.predict(X_test)\n",
    "\n",
    "# Calculate sMAPE\n",
    "smape_rf = smape(y_test, y_pred_rf)\n",
    "\n",
    "# Print the sMAPE score\n",
    "print(\"RandomForestRegressor sMAPE:\", smape_rf)"
   ]
  },
  {
   "cell_type": "code",
   "execution_count": null,
   "metadata": {},
   "outputs": [],
   "source": [
    "# # Optuna\n",
    "# import optuna\n",
    "# import xgboost as xgb\n",
    "# from sklearn.metrics import mean_squared_error\n",
    "\n",
    "# # Define the objective function for Optuna\n",
    "# def objective(trial):\n",
    "#     # Define the hyperparameters to be optimized\n",
    "#     params = {\n",
    "#         'n_estimators': trial.suggest_int('n_estimators', 50, 1000),\n",
    "#         'learning_rate': trial.suggest_loguniform('learning_rate', 0.001, 1.0),\n",
    "#         'max_depth': trial.suggest_int('max_depth', 3, 10),\n",
    "#         'subsample': trial.suggest_float('subsample', 0.1, 1.0),\n",
    "#         'colsample_bytree': trial.suggest_float('colsample_bytree', 0.1, 1.0),\n",
    "#     }\n",
    "\n",
    "#     # Create the XGBoost model with the suggested hyperparameters\n",
    "#     model = xgb.XGBRegressor(**params)\n",
    "\n",
    "#     # Train the model\n",
    "#     model.fit(X_train, y_train)\n",
    "\n",
    "#     # Make predictions on the test set\n",
    "#     y_pred = model.predict(X_test)\n",
    "\n",
    "#     # Calculate the sMAPE\n",
    "#     smape_score = smape(y_test, y_pred)\n",
    "\n",
    "#     return smape_score\n",
    "\n",
    "# # Create an Optuna study object\n",
    "# study = optuna.create_study(direction='minimize')\n",
    "\n",
    "# # Start the optimization process\n",
    "# study.optimize(objective, n_trials=30)\n",
    "\n",
    "# # Get the best hyperparameters found by Optuna\n",
    "# best_params = study.best_params\n",
    "\n",
    "# # Create the XGBoost model with the best hyperparameters\n",
    "# xgb_model = xgb.XGBRegressor(**best_params)\n",
    "\n",
    "# # Train the model on the full training data\n",
    "# xgb_model.fit(X_train, y_train)\n",
    "\n",
    "# # Make predictions on the test set\n",
    "# y_pred_xgb = xgb_model.predict(X_test)\n",
    "\n",
    "# # Calculate sMAPE\n",
    "# smape_xgb = smape(y_test, y_pred_xgb)\n",
    "\n",
    "# # Print the results\n",
    "# print(\"Best Hyperparameters:\", best_params)\n",
    "# print(\"XGBoost sMAPE:\", smape_xgb)"
   ]
  },
  {
   "cell_type": "code",
   "execution_count": null,
   "metadata": {},
   "outputs": [],
   "source": [
    "# n_estimators = [5,20,50,100] # number of trees in the random forest\n",
    "# max_features = ['auto', 'sqrt'] # number of features in consideration at every split\n",
    "# max_depth = [int(x) for x in np.linspace(10, 120, num = 12)] # maximum number of levels allowed in each decision tree\n",
    "# min_samples_split = [2, 6, 10] # minimum sample number to split a node\n",
    "# min_samples_leaf = [1, 3, 4] # minimum sample number that can be stored in a leaf node\n",
    "# bootstrap = [True, False] # method used to sample data points\n",
    "\n",
    "# random_grid = {'n_estimators': n_estimators,\n",
    "# 'max_features': max_features,\n",
    "# 'max_depth': max_depth,\n",
    "# 'min_samples_split': min_samples_split,\n",
    "# 'min_samples_leaf': min_samples_leaf,\n",
    "# 'bootstrap': bootstrap}"
   ]
  },
  {
   "cell_type": "code",
   "execution_count": null,
   "metadata": {},
   "outputs": [],
   "source": [
    "# ## Importing Random Forest Classifier from the sklearn.ensemble\n",
    "# from sklearn.ensemble import RandomForestRegressor\n",
    "# rf = RandomForestRegressor()\n",
    "\n",
    "# from sklearn.model_selection import RandomizedSearchCV\n",
    "# rf_random = RandomizedSearchCV(estimator = rf,param_distributions = random_grid,\n",
    "#             n_iter = 100, cv = 5, verbose=2, random_state=35, n_jobs = -1)\n",
    "\n",
    "# rf_random.fit(X_train, y_train)\n",
    "\n",
    "# print ('Random grid: ', random_grid, '\\n')\n",
    "# print ('Best Parameters: ', rf_random.best_params_, ' \\n')"
   ]
  },
  {
   "cell_type": "code",
   "execution_count": null,
   "metadata": {},
   "outputs": [],
   "source": [
    "# randmf = RandomForestRegressor(n_estimators = 100, min_samples_split = 10, min_samples_leaf = 1, max_features = 'auto', max_depth = 110, bootstrap = True) \n",
    "# randmf.fit(X_train, y_train)\n",
    "\n",
    "# y_pred_rf_random = randmf.predict(X_test)\n",
    "\n",
    "# smape_rf_random = smape(y_test, y_pred_rf_random)\n",
    "\n",
    "# print(\"RandomForestRegressor sMAPE:\", smape_rf_random)"
   ]
  },
  {
   "cell_type": "code",
   "execution_count": null,
   "metadata": {},
   "outputs": [],
   "source": [
    "id_series = test_df['id']\n",
    "id_df = pd.DataFrame({'id': id_series})\n",
    "\n",
    "test_df.drop(columns=['id'], inplace=True)\n",
    "# test_df.drop(columns=['id', 'lanes', 'lanes_forward', 'lanes_backward'], inplace=True)\n",
    "# test_df.drop(columns=['id', 'busway', 'lanes_forward', 'lanes_backward'], inplace=True)"
   ]
  },
  {
   "cell_type": "code",
   "execution_count": null,
   "metadata": {},
   "outputs": [],
   "source": [
    "# y_results = xgb_model.predict(test_df)\n",
    "# y_results_df = pd.DataFrame({'rerata_kecepatan': y_results})\n",
    "\n",
    "# # Concatenate id_df and y_results_df horizontally\n",
    "# result_df = pd.concat([id_df, y_results_df], axis=1)\n",
    "# print(result_df)\n",
    "\n",
    "# # Store the concatenated DataFrame to a CSV file\n",
    "# result_df.to_csv('Data/submission.csv', index=False)\n",
    "\n",
    "# print(\"Data saved to 'data/submission.csv'\")"
   ]
  },
  {
   "cell_type": "code",
   "execution_count": null,
   "metadata": {},
   "outputs": [
    {
     "name": "stdout",
     "output_type": "stream",
     "text": [
      "            id  rerata_kecepatan\n",
      "0            0         42.977407\n",
      "1            1         37.576141\n",
      "2            2         37.385447\n",
      "3            3         44.557172\n",
      "4            4         27.576288\n",
      "...        ...               ...\n",
      "127484  127484         32.117302\n",
      "127485  127485         37.047479\n",
      "127486  127486         41.292769\n",
      "127487  127487         34.665056\n",
      "127488  127488         44.663126\n",
      "\n",
      "[127489 rows x 2 columns]\n",
      "Data saved to 'data/submission rf.csv'\n"
     ]
    }
   ],
   "source": [
    "y_results = rf_model.predict(test_df)\n",
    "y_results_df = pd.DataFrame({'rerata_kecepatan': y_results})\n",
    "\n",
    "# Concatenate id_df and y_results_df horizontally\n",
    "result_df = pd.concat([id_df, y_results_df], axis=1)\n",
    "print(result_df)\n",
    "\n",
    "# Store the concatenated DataFrame to a CSV file\n",
    "result_df.to_csv('Data/submission rf.csv', index=False)\n",
    "\n",
    "print(\"Data saved to 'data/submission rf.csv'\")"
   ]
  },
  {
   "cell_type": "code",
   "execution_count": null,
   "metadata": {},
   "outputs": [],
   "source": [
    "# y_results_randmf = randmf.predict(test_df)\n",
    "\n",
    "# y_results_rf_random_df = pd.DataFrame({'rerata_kecepatan': y_results_randmf})\n",
    "\n",
    "# # Concatenate id_df and y_results_df horizontally\n",
    "# result_df = pd.concat([id_df, y_results_rf_random_df], axis=1)\n",
    "# print(result_df)\n",
    "\n",
    "# # Store the concatenated DataFrame to a CSV file\n",
    "# result_df.to_csv('Data/submission rf random search.csv', index=False)\n",
    "\n",
    "# print(\"Data saved\")"
   ]
  },
  {
   "cell_type": "code",
   "execution_count": null,
   "metadata": {},
   "outputs": [],
   "source": []
  }
 ],
 "metadata": {
  "kernelspec": {
   "display_name": "Python 3",
   "language": "python",
   "name": "python3"
  },
  "language_info": {
   "codemirror_mode": {
    "name": "ipython",
    "version": 3
   },
   "file_extension": ".py",
   "mimetype": "text/x-python",
   "name": "python",
   "nbconvert_exporter": "python",
   "pygments_lexer": "ipython3",
   "version": "3.11.1"
  },
  "orig_nbformat": 4
 },
 "nbformat": 4,
 "nbformat_minor": 2
}
