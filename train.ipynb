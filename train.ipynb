{
 "cells": [
  {
   "cell_type": "code",
   "execution_count": 92,
   "metadata": {},
   "outputs": [],
   "source": [
    "import pandas as pd\n",
    "import numpy as np\n",
    "import matplotlib.pyplot as plt\n",
    "import seaborn as sns"
   ]
  },
  {
   "cell_type": "code",
   "execution_count": 93,
   "metadata": {},
   "outputs": [],
   "source": [
    "train_df = pd.read_csv('data/train.csv', sep=';')\n",
    "test_df = pd.read_csv('data/test.csv', sep=';')"
   ]
  },
  {
   "cell_type": "code",
   "execution_count": 94,
   "metadata": {},
   "outputs": [
    {
     "data": {
      "text/html": [
       "<div>\n",
       "<style scoped>\n",
       "    .dataframe tbody tr th:only-of-type {\n",
       "        vertical-align: middle;\n",
       "    }\n",
       "\n",
       "    .dataframe tbody tr th {\n",
       "        vertical-align: top;\n",
       "    }\n",
       "\n",
       "    .dataframe thead th {\n",
       "        text-align: right;\n",
       "    }\n",
       "</style>\n",
       "<table border=\"1\" class=\"dataframe\">\n",
       "  <thead>\n",
       "    <tr style=\"text-align: right;\">\n",
       "      <th></th>\n",
       "      <th>waktu_setempat</th>\n",
       "      <th>id_jalan</th>\n",
       "      <th>id_titik_mulai</th>\n",
       "      <th>id_titik_akhir</th>\n",
       "      <th>rerata_kecepatan</th>\n",
       "      <th>max_speed_kph</th>\n",
       "      <th>lanes</th>\n",
       "      <th>lanes_forward</th>\n",
       "      <th>lanes_backward</th>\n",
       "      <th>busway</th>\n",
       "      <th>highway</th>\n",
       "      <th>concat_mulai_akhir</th>\n",
       "      <th>distance</th>\n",
       "    </tr>\n",
       "  </thead>\n",
       "  <tbody>\n",
       "    <tr>\n",
       "      <th>0</th>\n",
       "      <td>2020-02-01 01:00:00+00:00</td>\n",
       "      <td>691007296</td>\n",
       "      <td>21390008</td>\n",
       "      <td>1425033102</td>\n",
       "      <td>29.126</td>\n",
       "      <td>48.28032</td>\n",
       "      <td>3</td>\n",
       "      <td>2</td>\n",
       "      <td>1</td>\n",
       "      <td>0</td>\n",
       "      <td>trunk</td>\n",
       "      <td>2.140000e+17</td>\n",
       "      <td>7.914363</td>\n",
       "    </tr>\n",
       "    <tr>\n",
       "      <th>1</th>\n",
       "      <td>2020-02-01 01:00:00+00:00</td>\n",
       "      <td>47010584</td>\n",
       "      <td>1677092762</td>\n",
       "      <td>579493410</td>\n",
       "      <td>46.576</td>\n",
       "      <td>48.28032</td>\n",
       "      <td>4</td>\n",
       "      <td>1</td>\n",
       "      <td>1</td>\n",
       "      <td>2</td>\n",
       "      <td>primary</td>\n",
       "      <td>1.680000e+18</td>\n",
       "      <td>19.984653</td>\n",
       "    </tr>\n",
       "    <tr>\n",
       "      <th>2</th>\n",
       "      <td>2020-02-01 01:00:00+00:00</td>\n",
       "      <td>22932408</td>\n",
       "      <td>26486694</td>\n",
       "      <td>1930267566</td>\n",
       "      <td>36.587</td>\n",
       "      <td>32.18688</td>\n",
       "      <td>2</td>\n",
       "      <td>1</td>\n",
       "      <td>1</td>\n",
       "      <td>0</td>\n",
       "      <td>secondary</td>\n",
       "      <td>2.650000e+17</td>\n",
       "      <td>44.684593</td>\n",
       "    </tr>\n",
       "    <tr>\n",
       "      <th>3</th>\n",
       "      <td>2020-02-01 01:00:00+00:00</td>\n",
       "      <td>142479648</td>\n",
       "      <td>1111592522</td>\n",
       "      <td>3775231113</td>\n",
       "      <td>34.063</td>\n",
       "      <td>32.18688</td>\n",
       "      <td>3</td>\n",
       "      <td>1</td>\n",
       "      <td>1</td>\n",
       "      <td>1</td>\n",
       "      <td>primary</td>\n",
       "      <td>1.110000e+19</td>\n",
       "      <td>82.340453</td>\n",
       "    </tr>\n",
       "    <tr>\n",
       "      <th>4</th>\n",
       "      <td>2020-02-01 01:00:00+00:00</td>\n",
       "      <td>8504977</td>\n",
       "      <td>5940503398</td>\n",
       "      <td>5940503394</td>\n",
       "      <td>38.336</td>\n",
       "      <td>48.28032</td>\n",
       "      <td>2</td>\n",
       "      <td>1</td>\n",
       "      <td>1</td>\n",
       "      <td>0</td>\n",
       "      <td>primary</td>\n",
       "      <td>5.940000e+19</td>\n",
       "      <td>29.117877</td>\n",
       "    </tr>\n",
       "  </tbody>\n",
       "</table>\n",
       "</div>"
      ],
      "text/plain": [
       "              waktu_setempat   id_jalan  id_titik_mulai  id_titik_akhir   \n",
       "0  2020-02-01 01:00:00+00:00  691007296        21390008      1425033102  \\\n",
       "1  2020-02-01 01:00:00+00:00   47010584      1677092762       579493410   \n",
       "2  2020-02-01 01:00:00+00:00   22932408        26486694      1930267566   \n",
       "3  2020-02-01 01:00:00+00:00  142479648      1111592522      3775231113   \n",
       "4  2020-02-01 01:00:00+00:00    8504977      5940503398      5940503394   \n",
       "\n",
       "   rerata_kecepatan  max_speed_kph  lanes  lanes_forward  lanes_backward   \n",
       "0            29.126       48.28032      3              2               1  \\\n",
       "1            46.576       48.28032      4              1               1   \n",
       "2            36.587       32.18688      2              1               1   \n",
       "3            34.063       32.18688      3              1               1   \n",
       "4            38.336       48.28032      2              1               1   \n",
       "\n",
       "   busway    highway  concat_mulai_akhir   distance  \n",
       "0       0      trunk        2.140000e+17   7.914363  \n",
       "1       2    primary        1.680000e+18  19.984653  \n",
       "2       0  secondary        2.650000e+17  44.684593  \n",
       "3       1    primary        1.110000e+19  82.340453  \n",
       "4       0    primary        5.940000e+19  29.117877  "
      ]
     },
     "execution_count": 94,
     "metadata": {},
     "output_type": "execute_result"
    }
   ],
   "source": [
    "train_df.head()"
   ]
  },
  {
   "cell_type": "code",
   "execution_count": 95,
   "metadata": {},
   "outputs": [],
   "source": [
    "import pandas as pd\n",
    "\n",
    "train_df = pd.get_dummies(train_df, columns=['id_jalan'], prefix='id_jalan')\n",
    "test_df = pd.get_dummies(test_df, columns=['id_jalan'], prefix='id_jalan')\n",
    "\n",
    "train_df = pd.get_dummies(train_df, columns=['highway',], prefix='highway',)\n",
    "test_df = pd.get_dummies(test_df, columns=['highway',], prefix='highway',)"
   ]
  },
  {
   "cell_type": "code",
   "execution_count": 96,
   "metadata": {},
   "outputs": [],
   "source": [
    "# train_df = pd.get_dummies(train_df, columns=['id_titik_mulai'], prefix='id_titik_mulai')\n",
    "# test_df = pd.get_dummies(test_df, columns=['id_titik_mulai'], prefix='id_titik_mulai')\n",
    "\n",
    "# train_df = pd.get_dummies(train_df, columns=['id_titik_akhir'], prefix='id_titik_akhir')\n",
    "# test_df = pd.get_dummies(test_df, columns=['id_titik_akhir'], prefix='id_titik_akhir')"
   ]
  },
  {
   "cell_type": "code",
   "execution_count": 97,
   "metadata": {},
   "outputs": [
    {
     "data": {
      "text/html": [
       "<div>\n",
       "<style scoped>\n",
       "    .dataframe tbody tr th:only-of-type {\n",
       "        vertical-align: middle;\n",
       "    }\n",
       "\n",
       "    .dataframe tbody tr th {\n",
       "        vertical-align: top;\n",
       "    }\n",
       "\n",
       "    .dataframe thead th {\n",
       "        text-align: right;\n",
       "    }\n",
       "</style>\n",
       "<table border=\"1\" class=\"dataframe\">\n",
       "  <thead>\n",
       "    <tr style=\"text-align: right;\">\n",
       "      <th></th>\n",
       "      <th>waktu_setempat</th>\n",
       "      <th>id_titik_mulai</th>\n",
       "      <th>id_titik_akhir</th>\n",
       "      <th>rerata_kecepatan</th>\n",
       "      <th>max_speed_kph</th>\n",
       "      <th>lanes</th>\n",
       "      <th>lanes_forward</th>\n",
       "      <th>lanes_backward</th>\n",
       "      <th>busway</th>\n",
       "      <th>concat_mulai_akhir</th>\n",
       "      <th>...</th>\n",
       "      <th>id_jalan_50841260</th>\n",
       "      <th>id_jalan_66924592</th>\n",
       "      <th>id_jalan_97453767</th>\n",
       "      <th>id_jalan_142479648</th>\n",
       "      <th>id_jalan_150783571</th>\n",
       "      <th>id_jalan_182210371</th>\n",
       "      <th>id_jalan_691007296</th>\n",
       "      <th>highway_primary</th>\n",
       "      <th>highway_secondary</th>\n",
       "      <th>highway_trunk</th>\n",
       "    </tr>\n",
       "  </thead>\n",
       "  <tbody>\n",
       "    <tr>\n",
       "      <th>0</th>\n",
       "      <td>2020-02-01 01:00:00+00:00</td>\n",
       "      <td>21390008</td>\n",
       "      <td>1425033102</td>\n",
       "      <td>29.126</td>\n",
       "      <td>48.28032</td>\n",
       "      <td>3</td>\n",
       "      <td>2</td>\n",
       "      <td>1</td>\n",
       "      <td>0</td>\n",
       "      <td>2.140000e+17</td>\n",
       "      <td>...</td>\n",
       "      <td>False</td>\n",
       "      <td>False</td>\n",
       "      <td>False</td>\n",
       "      <td>False</td>\n",
       "      <td>False</td>\n",
       "      <td>False</td>\n",
       "      <td>True</td>\n",
       "      <td>False</td>\n",
       "      <td>False</td>\n",
       "      <td>True</td>\n",
       "    </tr>\n",
       "    <tr>\n",
       "      <th>1</th>\n",
       "      <td>2020-02-01 01:00:00+00:00</td>\n",
       "      <td>1677092762</td>\n",
       "      <td>579493410</td>\n",
       "      <td>46.576</td>\n",
       "      <td>48.28032</td>\n",
       "      <td>4</td>\n",
       "      <td>1</td>\n",
       "      <td>1</td>\n",
       "      <td>2</td>\n",
       "      <td>1.680000e+18</td>\n",
       "      <td>...</td>\n",
       "      <td>False</td>\n",
       "      <td>False</td>\n",
       "      <td>False</td>\n",
       "      <td>False</td>\n",
       "      <td>False</td>\n",
       "      <td>False</td>\n",
       "      <td>False</td>\n",
       "      <td>True</td>\n",
       "      <td>False</td>\n",
       "      <td>False</td>\n",
       "    </tr>\n",
       "    <tr>\n",
       "      <th>2</th>\n",
       "      <td>2020-02-01 01:00:00+00:00</td>\n",
       "      <td>26486694</td>\n",
       "      <td>1930267566</td>\n",
       "      <td>36.587</td>\n",
       "      <td>32.18688</td>\n",
       "      <td>2</td>\n",
       "      <td>1</td>\n",
       "      <td>1</td>\n",
       "      <td>0</td>\n",
       "      <td>2.650000e+17</td>\n",
       "      <td>...</td>\n",
       "      <td>False</td>\n",
       "      <td>False</td>\n",
       "      <td>False</td>\n",
       "      <td>False</td>\n",
       "      <td>False</td>\n",
       "      <td>False</td>\n",
       "      <td>False</td>\n",
       "      <td>False</td>\n",
       "      <td>True</td>\n",
       "      <td>False</td>\n",
       "    </tr>\n",
       "    <tr>\n",
       "      <th>3</th>\n",
       "      <td>2020-02-01 01:00:00+00:00</td>\n",
       "      <td>1111592522</td>\n",
       "      <td>3775231113</td>\n",
       "      <td>34.063</td>\n",
       "      <td>32.18688</td>\n",
       "      <td>3</td>\n",
       "      <td>1</td>\n",
       "      <td>1</td>\n",
       "      <td>1</td>\n",
       "      <td>1.110000e+19</td>\n",
       "      <td>...</td>\n",
       "      <td>False</td>\n",
       "      <td>False</td>\n",
       "      <td>False</td>\n",
       "      <td>True</td>\n",
       "      <td>False</td>\n",
       "      <td>False</td>\n",
       "      <td>False</td>\n",
       "      <td>True</td>\n",
       "      <td>False</td>\n",
       "      <td>False</td>\n",
       "    </tr>\n",
       "    <tr>\n",
       "      <th>4</th>\n",
       "      <td>2020-02-01 01:00:00+00:00</td>\n",
       "      <td>5940503398</td>\n",
       "      <td>5940503394</td>\n",
       "      <td>38.336</td>\n",
       "      <td>48.28032</td>\n",
       "      <td>2</td>\n",
       "      <td>1</td>\n",
       "      <td>1</td>\n",
       "      <td>0</td>\n",
       "      <td>5.940000e+19</td>\n",
       "      <td>...</td>\n",
       "      <td>False</td>\n",
       "      <td>False</td>\n",
       "      <td>False</td>\n",
       "      <td>False</td>\n",
       "      <td>False</td>\n",
       "      <td>False</td>\n",
       "      <td>False</td>\n",
       "      <td>True</td>\n",
       "      <td>False</td>\n",
       "      <td>False</td>\n",
       "    </tr>\n",
       "  </tbody>\n",
       "</table>\n",
       "<p>5 rows × 34 columns</p>\n",
       "</div>"
      ],
      "text/plain": [
       "              waktu_setempat  id_titik_mulai  id_titik_akhir   \n",
       "0  2020-02-01 01:00:00+00:00        21390008      1425033102  \\\n",
       "1  2020-02-01 01:00:00+00:00      1677092762       579493410   \n",
       "2  2020-02-01 01:00:00+00:00        26486694      1930267566   \n",
       "3  2020-02-01 01:00:00+00:00      1111592522      3775231113   \n",
       "4  2020-02-01 01:00:00+00:00      5940503398      5940503394   \n",
       "\n",
       "   rerata_kecepatan  max_speed_kph  lanes  lanes_forward  lanes_backward   \n",
       "0            29.126       48.28032      3              2               1  \\\n",
       "1            46.576       48.28032      4              1               1   \n",
       "2            36.587       32.18688      2              1               1   \n",
       "3            34.063       32.18688      3              1               1   \n",
       "4            38.336       48.28032      2              1               1   \n",
       "\n",
       "   busway  concat_mulai_akhir  ...  id_jalan_50841260  id_jalan_66924592   \n",
       "0       0        2.140000e+17  ...              False              False  \\\n",
       "1       2        1.680000e+18  ...              False              False   \n",
       "2       0        2.650000e+17  ...              False              False   \n",
       "3       1        1.110000e+19  ...              False              False   \n",
       "4       0        5.940000e+19  ...              False              False   \n",
       "\n",
       "   id_jalan_97453767  id_jalan_142479648  id_jalan_150783571   \n",
       "0              False               False               False  \\\n",
       "1              False               False               False   \n",
       "2              False               False               False   \n",
       "3              False                True               False   \n",
       "4              False               False               False   \n",
       "\n",
       "   id_jalan_182210371  id_jalan_691007296  highway_primary  highway_secondary   \n",
       "0               False                True            False              False  \\\n",
       "1               False               False             True              False   \n",
       "2               False               False            False               True   \n",
       "3               False               False             True              False   \n",
       "4               False               False             True              False   \n",
       "\n",
       "   highway_trunk  \n",
       "0           True  \n",
       "1          False  \n",
       "2          False  \n",
       "3          False  \n",
       "4          False  \n",
       "\n",
       "[5 rows x 34 columns]"
      ]
     },
     "execution_count": 97,
     "metadata": {},
     "output_type": "execute_result"
    }
   ],
   "source": [
    "train_df.head()"
   ]
  },
  {
   "cell_type": "code",
   "execution_count": 98,
   "metadata": {},
   "outputs": [
    {
     "data": {
      "text/plain": [
       "Index(['waktu_setempat', 'id_titik_mulai', 'id_titik_akhir',\n",
       "       'rerata_kecepatan', 'max_speed_kph', 'lanes', 'lanes_forward',\n",
       "       'lanes_backward', 'busway', 'concat_mulai_akhir', 'distance',\n",
       "       'id_jalan_1210', 'id_jalan_3688059', 'id_jalan_3691841',\n",
       "       'id_jalan_4004732', 'id_jalan_4060819', 'id_jalan_4061596',\n",
       "       'id_jalan_4898588', 'id_jalan_8504977', 'id_jalan_22932408',\n",
       "       'id_jalan_24704286', 'id_jalan_26785612', 'id_jalan_40044423',\n",
       "       'id_jalan_47010584', 'id_jalan_50841260', 'id_jalan_66924592',\n",
       "       'id_jalan_97453767', 'id_jalan_142479648', 'id_jalan_150783571',\n",
       "       'id_jalan_182210371', 'id_jalan_691007296', 'highway_primary',\n",
       "       'highway_secondary', 'highway_trunk'],\n",
       "      dtype='object')"
      ]
     },
     "execution_count": 98,
     "metadata": {},
     "output_type": "execute_result"
    }
   ],
   "source": [
    "train_df.columns"
   ]
  },
  {
   "cell_type": "code",
   "execution_count": 99,
   "metadata": {},
   "outputs": [
    {
     "name": "stdout",
     "output_type": "stream",
     "text": [
      "<class 'pandas.core.frame.DataFrame'>\n",
      "RangeIndex: 127489 entries, 0 to 127488\n",
      "Data columns (total 34 columns):\n",
      " #   Column              Non-Null Count   Dtype  \n",
      "---  ------              --------------   -----  \n",
      " 0   id                  127489 non-null  int64  \n",
      " 1   waktu_setempat      127489 non-null  object \n",
      " 2   id_titik_mulai      127489 non-null  int64  \n",
      " 3   id_titik_akhir      127489 non-null  int64  \n",
      " 4   max_speed_kph       127489 non-null  float64\n",
      " 5   lanes               127489 non-null  int64  \n",
      " 6   lanes_forward       127489 non-null  int64  \n",
      " 7   lanes_backward      127489 non-null  int64  \n",
      " 8   busway              127489 non-null  int64  \n",
      " 9   concat_mulai_akhir  127489 non-null  object \n",
      " 10  distance            127489 non-null  float64\n",
      " 11  id_jalan_1210       127489 non-null  bool   \n",
      " 12  id_jalan_3688059    127489 non-null  bool   \n",
      " 13  id_jalan_3691841    127489 non-null  bool   \n",
      " 14  id_jalan_4004732    127489 non-null  bool   \n",
      " 15  id_jalan_4060819    127489 non-null  bool   \n",
      " 16  id_jalan_4061596    127489 non-null  bool   \n",
      " 17  id_jalan_4898588    127489 non-null  bool   \n",
      " 18  id_jalan_8504977    127489 non-null  bool   \n",
      " 19  id_jalan_22932408   127489 non-null  bool   \n",
      " 20  id_jalan_24704286   127489 non-null  bool   \n",
      " 21  id_jalan_26785612   127489 non-null  bool   \n",
      " 22  id_jalan_40044423   127489 non-null  bool   \n",
      " 23  id_jalan_47010584   127489 non-null  bool   \n",
      " 24  id_jalan_50841260   127489 non-null  bool   \n",
      " 25  id_jalan_66924592   127489 non-null  bool   \n",
      " 26  id_jalan_97453767   127489 non-null  bool   \n",
      " 27  id_jalan_142479648  127489 non-null  bool   \n",
      " 28  id_jalan_150783571  127489 non-null  bool   \n",
      " 29  id_jalan_182210371  127489 non-null  bool   \n",
      " 30  id_jalan_691007296  127489 non-null  bool   \n",
      " 31  highway_primary     127489 non-null  bool   \n",
      " 32  highway_secondary   127489 non-null  bool   \n",
      " 33  highway_trunk       127489 non-null  bool   \n",
      "dtypes: bool(23), float64(2), int64(7), object(2)\n",
      "memory usage: 13.5+ MB\n"
     ]
    }
   ],
   "source": [
    "test_df.info()"
   ]
  },
  {
   "cell_type": "code",
   "execution_count": 100,
   "metadata": {},
   "outputs": [],
   "source": [
    "train_df['waktu_setempat'] = pd.to_datetime(train_df['waktu_setempat'])\n",
    "test_df['waktu_setempat'] = pd.to_datetime(test_df['waktu_setempat'])"
   ]
  },
  {
   "cell_type": "code",
   "execution_count": 101,
   "metadata": {},
   "outputs": [],
   "source": [
    "train_df['hour'] = train_df['waktu_setempat'].dt.hour\n",
    "train_df['day_of_week'] = train_df['waktu_setempat'].dt.dayofweek\n",
    "train_df['week'] = train_df['waktu_setempat'].dt.isocalendar().week\n",
    "\n",
    "train_df['week'] = train_df['week'].astype(int)\n"
   ]
  },
  {
   "cell_type": "code",
   "execution_count": 102,
   "metadata": {},
   "outputs": [],
   "source": [
    "test_df['hour'] = test_df['waktu_setempat'].dt.hour\n",
    "test_df['day_of_week'] = test_df['waktu_setempat'].dt.dayofweek\n",
    "test_df['week'] = test_df['waktu_setempat'].dt.isocalendar().week\n",
    "\n",
    "test_df['week'] = test_df['week'].astype(int)"
   ]
  },
  {
   "cell_type": "code",
   "execution_count": 103,
   "metadata": {},
   "outputs": [
    {
     "name": "stdout",
     "output_type": "stream",
     "text": [
      "<class 'pandas.core.frame.DataFrame'>\n",
      "RangeIndex: 398648 entries, 0 to 398647\n",
      "Data columns (total 37 columns):\n",
      " #   Column              Non-Null Count   Dtype              \n",
      "---  ------              --------------   -----              \n",
      " 0   waktu_setempat      398648 non-null  datetime64[ns, UTC]\n",
      " 1   id_titik_mulai      398648 non-null  int64              \n",
      " 2   id_titik_akhir      398648 non-null  int64              \n",
      " 3   rerata_kecepatan    398648 non-null  float64            \n",
      " 4   max_speed_kph       398648 non-null  float64            \n",
      " 5   lanes               398648 non-null  int64              \n",
      " 6   lanes_forward       398648 non-null  int64              \n",
      " 7   lanes_backward      398648 non-null  int64              \n",
      " 8   busway              398648 non-null  int64              \n",
      " 9   concat_mulai_akhir  398648 non-null  float64            \n",
      " 10  distance            398648 non-null  float64            \n",
      " 11  id_jalan_1210       398648 non-null  bool               \n",
      " 12  id_jalan_3688059    398648 non-null  bool               \n",
      " 13  id_jalan_3691841    398648 non-null  bool               \n",
      " 14  id_jalan_4004732    398648 non-null  bool               \n",
      " 15  id_jalan_4060819    398648 non-null  bool               \n",
      " 16  id_jalan_4061596    398648 non-null  bool               \n",
      " 17  id_jalan_4898588    398648 non-null  bool               \n",
      " 18  id_jalan_8504977    398648 non-null  bool               \n",
      " 19  id_jalan_22932408   398648 non-null  bool               \n",
      " 20  id_jalan_24704286   398648 non-null  bool               \n",
      " 21  id_jalan_26785612   398648 non-null  bool               \n",
      " 22  id_jalan_40044423   398648 non-null  bool               \n",
      " 23  id_jalan_47010584   398648 non-null  bool               \n",
      " 24  id_jalan_50841260   398648 non-null  bool               \n",
      " 25  id_jalan_66924592   398648 non-null  bool               \n",
      " 26  id_jalan_97453767   398648 non-null  bool               \n",
      " 27  id_jalan_142479648  398648 non-null  bool               \n",
      " 28  id_jalan_150783571  398648 non-null  bool               \n",
      " 29  id_jalan_182210371  398648 non-null  bool               \n",
      " 30  id_jalan_691007296  398648 non-null  bool               \n",
      " 31  highway_primary     398648 non-null  bool               \n",
      " 32  highway_secondary   398648 non-null  bool               \n",
      " 33  highway_trunk       398648 non-null  bool               \n",
      " 34  hour                398648 non-null  int32              \n",
      " 35  day_of_week         398648 non-null  int32              \n",
      " 36  week                398648 non-null  int32              \n",
      "dtypes: bool(23), datetime64[ns, UTC](1), float64(4), int32(3), int64(6)\n",
      "memory usage: 46.8 MB\n"
     ]
    }
   ],
   "source": [
    "train_df.info()"
   ]
  },
  {
   "cell_type": "code",
   "execution_count": 104,
   "metadata": {},
   "outputs": [],
   "source": [
    "train_df.drop(columns=['busway', 'waktu_setempat', 'concat_mulai_akhir'], inplace=True)\n",
    "test_df.drop(columns=['busway', 'waktu_setempat', 'concat_mulai_akhir'], inplace=True)"
   ]
  },
  {
   "cell_type": "code",
   "execution_count": 105,
   "metadata": {},
   "outputs": [],
   "source": [
    "# import pandas as pd\n",
    "# import seaborn as sns\n",
    "# import matplotlib.pyplot as plt\n",
    "\n",
    "# # Assuming you have already loaded the DataFrame as 'train_df'\n",
    "# sns.set(style=\"whitegrid\")\n",
    "# plt.figure(figsize=(12, 8))\n",
    "# sns.heatmap(train_df.corr(), annot=True, cmap=\"coolwarm\", fmt=\".2f\")\n",
    "# plt.title(\"Correlation Heatmap for train_df\")\n",
    "# plt.show()"
   ]
  },
  {
   "cell_type": "code",
   "execution_count": 106,
   "metadata": {},
   "outputs": [],
   "source": [
    "# Remove outliers from 'rerata_kecepatan' column\n",
    "Q1 = train_df['rerata_kecepatan'].quantile(0.25)\n",
    "Q3 = train_df['rerata_kecepatan'].quantile(0.75)\n",
    "\n",
    "IQR = Q3 - Q1\n",
    "\n",
    "lower_bound = Q1 - 1.5 * IQR\n",
    "upper_bound = Q3 + 1.5 * IQR\n",
    "\n",
    "train_df = train_df[(train_df['rerata_kecepatan'] >= lower_bound) & (train_df['rerata_kecepatan'] <= upper_bound)]\n"
   ]
  },
  {
   "cell_type": "code",
   "execution_count": 121,
   "metadata": {},
   "outputs": [
    {
     "data": {
      "image/png": "[encoded data removed]",
      "text/plain": [
       "<Figure size 640x480 with 1 Axes>"
      ]
     },
     "metadata": {},
     "output_type": "display_data"
    }
   ],
   "source": [
    "import matplotlib.pyplot as plt\n",
    "\n",
    "# Plot histogram\n",
    "plt.hist(train_df['rerata_kecepatan'], bins=75, edgecolor='black')\n",
    "\n",
    "# Add labels and title\n",
    "plt.xlabel('Rerata Kecepatan')\n",
    "plt.ylabel('Frequency')\n",
    "plt.title('Histogram of Rerata Kecepatan')\n",
    "\n",
    "# Show the chart\n",
    "plt.show()"
   ]
  },
  {
   "cell_type": "code",
   "execution_count": 107,
   "metadata": {},
   "outputs": [],
   "source": [
    "## Train - Test Split\n",
    "import pandas as pd\n",
    "import numpy as np\n",
    "from sklearn.linear_model import LinearRegression\n",
    "from sklearn.model_selection import train_test_split\n",
    "import matplotlib.pyplot as plt\n",
    "\n",
    "# Function to calculate sMAPE\n",
    "def smape(actual, forecast):\n",
    "    return 100 * np.mean(2 * np.abs(forecast - actual) / (np.abs(actual) + np.abs(forecast)))\n",
    "\n",
    "X = train_df.drop(columns=['rerata_kecepatan'])\n",
    "# X = train_df.drop(columns=['rerata_kecepatan', 'lanes', 'lanes_forward', 'lanes_backward'])\n",
    "# X = train_df.drop(columns=['rerata_kecepatan', 'busway', 'lanes_forward', 'lanes_backward'])\n",
    "\n",
    "y = train_df['rerata_kecepatan']\n",
    "\n",
    "X_train, X_test, y_train, y_test = train_test_split(X, y, test_size=0.3, random_state=42)\n"
   ]
  },
  {
   "cell_type": "code",
   "execution_count": 108,
   "metadata": {},
   "outputs": [
    {
     "name": "stdout",
     "output_type": "stream",
     "text": [
      "Linear Regression sMAPE: 13.136204538454836\n"
     ]
    }
   ],
   "source": [
    "# Linear Regression\n",
    "linear_reg_model = LinearRegression()\n",
    "linear_reg_model.fit(X_train, y_train)\n",
    "y_pred_linear_reg = linear_reg_model.predict(X_test)\n",
    "smape_linear_reg = smape(y_test, y_pred_linear_reg)\n",
    "print(\"Linear Regression sMAPE:\", smape_linear_reg)"
   ]
  },
  {
   "cell_type": "code",
   "execution_count": 109,
   "metadata": {},
   "outputs": [
    {
     "name": "stdout",
     "output_type": "stream",
     "text": [
      "XGBoost sMAPE: 7.050611725461084\n"
     ]
    }
   ],
   "source": [
    "from xgboost import XGBRegressor\n",
    "\n",
    "# XGBRegressor\n",
    "xgb_model = XGBRegressor()\n",
    "xgb_model.fit(X_train, y_train)\n",
    "y_pred_xgb = xgb_model.predict(X_test)\n",
    "smape_xgb = smape(y_test, y_pred_xgb)\n",
    "print(\"XGBoost sMAPE:\", smape_xgb)"
   ]
  },
  {
   "cell_type": "code",
   "execution_count": 110,
   "metadata": {},
   "outputs": [
    {
     "name": "stdout",
     "output_type": "stream",
     "text": [
      "KNeighborsRegressor sMAPE: 10.379456249426955\n"
     ]
    }
   ],
   "source": [
    "# KNeighborsRegressor\n",
    "import numpy as np\n",
    "from sklearn.neighbors import KNeighborsRegressor\n",
    "from sklearn.model_selection import train_test_split\n",
    "\n",
    "# Create and train the KNeighborsRegressor model\n",
    "knn_model = KNeighborsRegressor(n_neighbors=5, weights='uniform')  # You can change the hyperparameters here\n",
    "knn_model.fit(X_train, y_train)\n",
    "\n",
    "# Make predictions on the test set\n",
    "y_pred_knn = knn_model.predict(X_test)\n",
    "\n",
    "# Calculate sMAPE\n",
    "smape_knn = smape(y_test, y_pred_knn)\n",
    "\n",
    "# Print the sMAPE score\n",
    "print(\"KNeighborsRegressor sMAPE:\", smape_knn)"
   ]
  },
  {
   "cell_type": "code",
   "execution_count": 111,
   "metadata": {},
   "outputs": [
    {
     "name": "stdout",
     "output_type": "stream",
     "text": [
      "RandomForestRegressor sMAPE: 6.6043345606630695\n"
     ]
    }
   ],
   "source": [
    "# RandomForestRegressor\n",
    "import numpy as np\n",
    "from sklearn.ensemble import RandomForestRegressor\n",
    "from sklearn.model_selection import train_test_split\n",
    "\n",
    "# Create and train the RandomForestRegressor model\n",
    "rf_model = RandomForestRegressor(n_estimators=100, random_state=42)  # You can change the hyperparameters here\n",
    "rf_model.fit(X_train, y_train)\n",
    "\n",
    "# Make predictions on the test set\n",
    "y_pred_rf = rf_model.predict(X_test)\n",
    "\n",
    "# Calculate sMAPE\n",
    "smape_rf = smape(y_test, y_pred_rf)\n",
    "\n",
    "# Print the sMAPE score\n",
    "print(\"RandomForestRegressor sMAPE:\", smape_rf)"
   ]
  },
  {
   "cell_type": "code",
   "execution_count": 112,
   "metadata": {},
   "outputs": [],
   "source": [
    "# # Optuna\n",
    "# import optuna\n",
    "# import xgboost as xgb\n",
    "# from sklearn.metrics import mean_squared_error\n",
    "\n",
    "# # Define the objective function for Optuna\n",
    "# def objective(trial):\n",
    "#     # Define the hyperparameters to be optimized\n",
    "#     params = {\n",
    "#         'n_estimators': trial.suggest_int('n_estimators', 50, 1000),\n",
    "#         'learning_rate': trial.suggest_loguniform('learning_rate', 0.001, 1.0),\n",
    "#         'max_depth': trial.suggest_int('max_depth', 3, 10),\n",
    "#         'subsample': trial.suggest_float('subsample', 0.1, 1.0),\n",
    "#         'colsample_bytree': trial.suggest_float('colsample_bytree', 0.1, 1.0),\n",
    "#     }\n",
    "\n",
    "#     # Create the XGBoost model with the suggested hyperparameters\n",
    "#     model = xgb.XGBRegressor(**params)\n",
    "\n",
    "#     # Train the model\n",
    "#     model.fit(X_train, y_train)\n",
    "\n",
    "#     # Make predictions on the test set\n",
    "#     y_pred = model.predict(X_test)\n",
    "\n",
    "#     # Calculate the sMAPE\n",
    "#     smape_score = smape(y_test, y_pred)\n",
    "\n",
    "#     return smape_score\n",
    "\n",
    "# # Create an Optuna study object\n",
    "# study = optuna.create_study(direction='minimize')\n",
    "\n",
    "# # Start the optimization process\n",
    "# study.optimize(objective, n_trials=30)\n",
    "\n",
    "# # Get the best hyperparameters found by Optuna\n",
    "# best_params = study.best_params\n",
    "\n",
    "# # Create the XGBoost model with the best hyperparameters\n",
    "# xgb_model = xgb.XGBRegressor(**best_params)\n",
    "\n",
    "# # Train the model on the full training data\n",
    "# xgb_model.fit(X_train, y_train)\n",
    "\n",
    "# # Make predictions on the test set\n",
    "# y_pred_xgb = xgb_model.predict(X_test)\n",
    "\n",
    "# # Calculate sMAPE\n",
    "# smape_xgb = smape(y_test, y_pred_xgb)\n",
    "\n",
    "# # Print the results\n",
    "# print(\"Best Hyperparameters:\", best_params)\n",
    "# print(\"XGBoost sMAPE:\", smape_xgb)"
   ]
  },
  {
   "cell_type": "code",
   "execution_count": 130,
   "metadata": {},
   "outputs": [],
   "source": [
    "n_estimators = [5,20,50,100] # number of trees in the random forest\n",
    "max_features = ['auto', 'sqrt'] # number of features in consideration at every split\n",
    "max_depth = [int(x) for x in np.linspace(10, 120, num = 12)] # maximum number of levels allowed in each decision tree\n",
    "min_samples_split = [2, 6, 10] # minimum sample number to split a node\n",
    "min_samples_leaf = [1, 3, 4] # minimum sample number that can be stored in a leaf node\n",
    "bootstrap = [True, False] # method used to sample data points\n",
    "\n",
    "random_grid = {'n_estimators': n_estimators,\n",
    "\n",
    "'max_features': max_features,\n",
    "\n",
    "'max_depth': max_depth,\n",
    "\n",
    "'min_samples_split': min_samples_split,\n",
    "\n",
    "'min_samples_leaf': min_samples_leaf,\n",
    "\n",
    "'bootstrap': bootstrap}"
   ]
  },
  {
   "cell_type": "code",
   "execution_count": 131,
   "metadata": {},
   "outputs": [
    {
     "name": "stdout",
     "output_type": "stream",
     "text": [
      "Fitting 5 folds for each of 100 candidates, totalling 500 fits\n"
     ]
    },
    {
     "name": "stderr",
     "output_type": "stream",
     "text": [
      "c:\\Users\\Fikri\\AppData\\Local\\Programs\\Python\\Python311\\Lib\\site-packages\\sklearn\\ensemble\\_forest.py:413: FutureWarning: `max_features='auto'` has been deprecated in 1.1 and will be removed in 1.3. To keep the past behaviour, explicitly set `max_features=1.0` or remove this parameter as it is also the default value for RandomForestRegressors and ExtraTreesRegressors.\n",
      "  warn(\n"
     ]
    },
    {
     "data": {
      "text/html": [
       "<style>#sk-container-id-1 {color: black;background-color: white;}#sk-container-id-1 pre{padding: 0;}#sk-container-id-1 div.sk-toggleable {background-color: white;}#sk-container-id-1 label.sk-toggleable__label {cursor: pointer;display: block;width: 100%;margin-bottom: 0;padding: 0.3em;box-sizing: border-box;text-align: center;}#sk-container-id-1 label.sk-toggleable__label-arrow:before {content: \"▸\";float: left;margin-right: 0.25em;color: #696969;}#sk-container-id-1 label.sk-toggleable__label-arrow:hover:before {color: black;}#sk-container-id-1 div.sk-estimator:hover label.sk-toggleable__label-arrow:before {color: black;}#sk-container-id-1 div.sk-toggleable__content {max-height: 0;max-width: 0;overflow: hidden;text-align: left;background-color: #f0f8ff;}#sk-container-id-1 div.sk-toggleable__content pre {margin: 0.2em;color: black;border-radius: 0.25em;background-color: #f0f8ff;}#sk-container-id-1 input.sk-toggleable__control:checked~div.sk-toggleable__content {max-height: 200px;max-width: 100%;overflow: auto;}#sk-container-id-1 input.sk-toggleable__control:checked~label.sk-toggleable__label-arrow:before {content: \"▾\";}#sk-container-id-1 div.sk-estimator input.sk-toggleable__control:checked~label.sk-toggleable__label {background-color: #d4ebff;}#sk-container-id-1 div.sk-label input.sk-toggleable__control:checked~label.sk-toggleable__label {background-color: #d4ebff;}#sk-container-id-1 input.sk-hidden--visually {border: 0;clip: rect(1px 1px 1px 1px);clip: rect(1px, 1px, 1px, 1px);height: 1px;margin: -1px;overflow: hidden;padding: 0;position: absolute;width: 1px;}#sk-container-id-1 div.sk-estimator {font-family: monospace;background-color: #f0f8ff;border: 1px dotted black;border-radius: 0.25em;box-sizing: border-box;margin-bottom: 0.5em;}#sk-container-id-1 div.sk-estimator:hover {background-color: #d4ebff;}#sk-container-id-1 div.sk-parallel-item::after {content: \"\";width: 100%;border-bottom: 1px solid gray;flex-grow: 1;}#sk-container-id-1 div.sk-label:hover label.sk-toggleable__label {background-color: #d4ebff;}#sk-container-id-1 div.sk-serial::before {content: \"\";position: absolute;border-left: 1px solid gray;box-sizing: border-box;top: 0;bottom: 0;left: 50%;z-index: 0;}#sk-container-id-1 div.sk-serial {display: flex;flex-direction: column;align-items: center;background-color: white;padding-right: 0.2em;padding-left: 0.2em;position: relative;}#sk-container-id-1 div.sk-item {position: relative;z-index: 1;}#sk-container-id-1 div.sk-parallel {display: flex;align-items: stretch;justify-content: center;background-color: white;position: relative;}#sk-container-id-1 div.sk-item::before, #sk-container-id-1 div.sk-parallel-item::before {content: \"\";position: absolute;border-left: 1px solid gray;box-sizing: border-box;top: 0;bottom: 0;left: 50%;z-index: -1;}#sk-container-id-1 div.sk-parallel-item {display: flex;flex-direction: column;z-index: 1;position: relative;background-color: white;}#sk-container-id-1 div.sk-parallel-item:first-child::after {align-self: flex-end;width: 50%;}#sk-container-id-1 div.sk-parallel-item:last-child::after {align-self: flex-start;width: 50%;}#sk-container-id-1 div.sk-parallel-item:only-child::after {width: 0;}#sk-container-id-1 div.sk-dashed-wrapped {border: 1px dashed gray;margin: 0 0.4em 0.5em 0.4em;box-sizing: border-box;padding-bottom: 0.4em;background-color: white;}#sk-container-id-1 div.sk-label label {font-family: monospace;font-weight: bold;display: inline-block;line-height: 1.2em;}#sk-container-id-1 div.sk-label-container {text-align: center;}#sk-container-id-1 div.sk-container {/* jupyter's `normalize.less` sets `[hidden] { display: none; }` but bootstrap.min.css set `[hidden] { display: none !important; }` so we also need the `!important` here to be able to override the default hidden behavior on the sphinx rendered scikit-learn.org. See: https://github.com/scikit-learn/scikit-learn/issues/21755 */display: inline-block !important;position: relative;}#sk-container-id-1 div.sk-text-repr-fallback {display: none;}</style><div id=\"sk-container-id-1\" class=\"sk-top-container\"><div class=\"sk-text-repr-fallback\"><pre>RandomizedSearchCV(cv=5, estimator=RandomForestRegressor(), n_iter=100,\n",
       "                   n_jobs=-1,\n",
       "                   param_distributions={&#x27;bootstrap&#x27;: [True, False],\n",
       "                                        &#x27;max_depth&#x27;: [10, 20, 30, 40, 50, 60,\n",
       "                                                      70, 80, 90, 100, 110,\n",
       "                                                      120],\n",
       "                                        &#x27;max_features&#x27;: [&#x27;auto&#x27;, &#x27;sqrt&#x27;],\n",
       "                                        &#x27;min_samples_leaf&#x27;: [1, 3, 4],\n",
       "                                        &#x27;min_samples_split&#x27;: [2, 6, 10],\n",
       "                                        &#x27;n_estimators&#x27;: [5, 20, 50, 100]},\n",
       "                   random_state=35, verbose=2)</pre><b>In a Jupyter environment, please rerun this cell to show the HTML representation or trust the notebook. <br />On GitHub, the HTML representation is unable to render, please try loading this page with nbviewer.org.</b></div><div class=\"sk-container\" hidden><div class=\"sk-item sk-dashed-wrapped\"><div class=\"sk-label-container\"><div class=\"sk-label sk-toggleable\"><input class=\"sk-toggleable__control sk-hidden--visually\" id=\"sk-estimator-id-1\" type=\"checkbox\" ><label for=\"sk-estimator-id-1\" class=\"sk-toggleable__label sk-toggleable__label-arrow\">RandomizedSearchCV</label><div class=\"sk-toggleable__content\"><pre>RandomizedSearchCV(cv=5, estimator=RandomForestRegressor(), n_iter=100,\n",
       "                   n_jobs=-1,\n",
       "                   param_distributions={&#x27;bootstrap&#x27;: [True, False],\n",
       "                                        &#x27;max_depth&#x27;: [10, 20, 30, 40, 50, 60,\n",
       "                                                      70, 80, 90, 100, 110,\n",
       "                                                      120],\n",
       "                                        &#x27;max_features&#x27;: [&#x27;auto&#x27;, &#x27;sqrt&#x27;],\n",
       "                                        &#x27;min_samples_leaf&#x27;: [1, 3, 4],\n",
       "                                        &#x27;min_samples_split&#x27;: [2, 6, 10],\n",
       "                                        &#x27;n_estimators&#x27;: [5, 20, 50, 100]},\n",
       "                   random_state=35, verbose=2)</pre></div></div></div><div class=\"sk-parallel\"><div class=\"sk-parallel-item\"><div class=\"sk-item\"><div class=\"sk-label-container\"><div class=\"sk-label sk-toggleable\"><input class=\"sk-toggleable__control sk-hidden--visually\" id=\"sk-estimator-id-2\" type=\"checkbox\" ><label for=\"sk-estimator-id-2\" class=\"sk-toggleable__label sk-toggleable__label-arrow\">estimator: RandomForestRegressor</label><div class=\"sk-toggleable__content\"><pre>RandomForestRegressor()</pre></div></div></div><div class=\"sk-serial\"><div class=\"sk-item\"><div class=\"sk-estimator sk-toggleable\"><input class=\"sk-toggleable__control sk-hidden--visually\" id=\"sk-estimator-id-3\" type=\"checkbox\" ><label for=\"sk-estimator-id-3\" class=\"sk-toggleable__label sk-toggleable__label-arrow\">RandomForestRegressor</label><div class=\"sk-toggleable__content\"><pre>RandomForestRegressor()</pre></div></div></div></div></div></div></div></div></div></div>"
      ],
      "text/plain": [
       "RandomizedSearchCV(cv=5, estimator=RandomForestRegressor(), n_iter=100,\n",
       "                   n_jobs=-1,\n",
       "                   param_distributions={'bootstrap': [True, False],\n",
       "                                        'max_depth': [10, 20, 30, 40, 50, 60,\n",
       "                                                      70, 80, 90, 100, 110,\n",
       "                                                      120],\n",
       "                                        'max_features': ['auto', 'sqrt'],\n",
       "                                        'min_samples_leaf': [1, 3, 4],\n",
       "                                        'min_samples_split': [2, 6, 10],\n",
       "                                        'n_estimators': [5, 20, 50, 100]},\n",
       "                   random_state=35, verbose=2)"
      ]
     },
     "execution_count": 131,
     "metadata": {},
     "output_type": "execute_result"
    }
   ],
   "source": [
    "## Importing Random Forest Classifier from the sklearn.ensemble\n",
    "from sklearn.ensemble import RandomForestRegressor\n",
    "rf = RandomForestRegressor()\n",
    "\n",
    "from sklearn.model_selection import RandomizedSearchCV\n",
    "rf_random = RandomizedSearchCV(estimator = rf,param_distributions = random_grid,\n",
    "            n_iter = 100, cv = 5, verbose=2, random_state=35, n_jobs = -1)\n",
    "\n",
    "rf_random.fit(X_train, y_train)"
   ]
  },
  {
   "cell_type": "code",
   "execution_count": 132,
   "metadata": {},
   "outputs": [
    {
     "name": "stdout",
     "output_type": "stream",
     "text": [
      "Random grid:  {'n_estimators': [5, 20, 50, 100], 'max_features': ['auto', 'sqrt'], 'max_depth': [10, 20, 30, 40, 50, 60, 70, 80, 90, 100, 110, 120], 'min_samples_split': [2, 6, 10], 'min_samples_leaf': [1, 3, 4], 'bootstrap': [True, False]} \n",
      "\n",
      "Best Parameters:  {'n_estimators': 100, 'min_samples_split': 10, 'min_samples_leaf': 1, 'max_features': 'auto', 'max_depth': 110, 'bootstrap': True}  \n",
      "\n"
     ]
    }
   ],
   "source": [
    "print ('Random grid: ', random_grid, '\\n')\n",
    "# print the best parameters\n",
    "print ('Best Parameters: ', rf_random.best_params_, ' \\n')"
   ]
  },
  {
   "cell_type": "code",
   "execution_count": 134,
   "metadata": {},
   "outputs": [
    {
     "name": "stderr",
     "output_type": "stream",
     "text": [
      "c:\\Users\\Fikri\\AppData\\Local\\Programs\\Python\\Python311\\Lib\\site-packages\\sklearn\\ensemble\\_forest.py:413: FutureWarning: `max_features='auto'` has been deprecated in 1.1 and will be removed in 1.3. To keep the past behaviour, explicitly set `max_features=1.0` or remove this parameter as it is also the default value for RandomForestRegressors and ExtraTreesRegressors.\n",
      "  warn(\n"
     ]
    },
    {
     "name": "stdout",
     "output_type": "stream",
     "text": [
      "RandomForestRegressor sMAPE: 6.351299384255088\n"
     ]
    }
   ],
   "source": [
    "randmf = RandomForestRegressor(n_estimators = 100, min_samples_split = 10, min_samples_leaf = 1, max_features = 'auto', max_depth = 110, bootstrap = True) \n",
    "randmf.fit(X_train, y_train)\n",
    "\n",
    "y_pred_rf_random = randmf.predict(X_test)\n",
    "\n",
    "smape_rf_random = smape(y_test, y_pred_rf_random)\n",
    "\n",
    "print(\"RandomForestRegressor sMAPE:\", smape_rf_random)"
   ]
  },
  {
   "cell_type": "code",
   "execution_count": 113,
   "metadata": {},
   "outputs": [],
   "source": [
    "id_series = test_df['id']\n",
    "id_df = pd.DataFrame({'id': id_series})\n",
    "\n",
    "test_df.drop(columns=['id'], inplace=True)\n",
    "# test_df.drop(columns=['id', 'lanes', 'lanes_forward', 'lanes_backward'], inplace=True)\n",
    "# test_df.drop(columns=['id', 'busway', 'lanes_forward', 'lanes_backward'], inplace=True)"
   ]
  },
  {
   "cell_type": "code",
   "execution_count": 114,
   "metadata": {},
   "outputs": [
    {
     "name": "stdout",
     "output_type": "stream",
     "text": [
      "            id  rerata_kecepatan\n",
      "0            0         43.573414\n",
      "1            1         36.901588\n",
      "2            2         36.079441\n",
      "3            3         41.385586\n",
      "4            4         30.827606\n",
      "...        ...               ...\n",
      "127484  127484         31.756935\n",
      "127485  127485         36.439034\n",
      "127486  127486         41.342377\n",
      "127487  127487         33.453060\n",
      "127488  127488         44.924946\n",
      "\n",
      "[127489 rows x 2 columns]\n",
      "Data saved to 'data/submission.csv'\n"
     ]
    }
   ],
   "source": [
    "y_results = xgb_model.predict(test_df)\n",
    "y_results_df = pd.DataFrame({'rerata_kecepatan': y_results})\n",
    "\n",
    "# Concatenate id_df and y_results_df horizontally\n",
    "result_df = pd.concat([id_df, y_results_df], axis=1)\n",
    "print(result_df)\n",
    "\n",
    "# Store the concatenated DataFrame to a CSV file\n",
    "result_df.to_csv('Data/submission.csv', index=False)\n",
    "\n",
    "print(\"Data saved to 'data/submission.csv'\")"
   ]
  },
  {
   "cell_type": "code",
   "execution_count": 116,
   "metadata": {},
   "outputs": [
    {
     "name": "stdout",
     "output_type": "stream",
     "text": [
      "            id  rerata_kecepatan\n",
      "0            0         41.680106\n",
      "1            1         32.985210\n",
      "2            2         36.546040\n",
      "3            3         43.869980\n",
      "4            4         26.642570\n",
      "...        ...               ...\n",
      "127484  127484         31.680640\n",
      "127485  127485         37.384280\n",
      "127486  127486         41.178500\n",
      "127487  127487         35.278170\n",
      "127488  127488         44.655830\n",
      "\n",
      "[127489 rows x 2 columns]\n",
      "Data saved to 'data/submission rf.csv'\n"
     ]
    }
   ],
   "source": [
    "y_results = rf_model.predict(test_df)\n",
    "y_results_df = pd.DataFrame({'rerata_kecepatan': y_results})\n",
    "\n",
    "# Concatenate id_df and y_results_df horizontally\n",
    "result_df = pd.concat([id_df, y_results_df], axis=1)\n",
    "print(result_df)\n",
    "\n",
    "# Store the concatenated DataFrame to a CSV file\n",
    "result_df.to_csv('Data/submission rf.csv', index=False)\n",
    "\n",
    "print(\"Data saved to 'data/submission rf.csv'\")"
   ]
  },
  {
   "cell_type": "code",
   "execution_count": null,
   "metadata": {},
   "outputs": [],
   "source": [
    "df_akhir = pd.concat([test_df, y_results_df], axis=1)\n",
    "print(df_akhir)\n",
    "\n",
    "# Store the concatenated DataFrame to a CSV file\n",
    "df_akhir.to_csv('Data/df akhir.csv', index=False)\n",
    "\n",
    "print(\"Data saved to 'data/submission rf.csv'\")"
   ]
  },
  {
   "cell_type": "code",
   "execution_count": 123,
   "metadata": {},
   "outputs": [],
   "source": [
    "x = pd.read_csv('data/test.csv', sep=';', decimal=',')"
   ]
  },
  {
   "cell_type": "code",
   "execution_count": null,
   "metadata": {},
   "outputs": [],
   "source": [
    "df_akhir = pd.concat([x[['waktu_setempat', 'id_jalan']], df_akhir], axis=1)\n",
    "print(df_akhir)\n",
    "\n",
    "# Store the concatenated DataFrame to a CSV file\n",
    "df_akhir.to_csv('Data/df akhir.csv', index=False)\n",
    "\n",
    "print(\"Data saved to 'data/submission rf.csv'\")"
   ]
  },
  {
   "cell_type": "code",
   "execution_count": 136,
   "metadata": {},
   "outputs": [
    {
     "name": "stdout",
     "output_type": "stream",
     "text": [
      "            id  rerata_kecepatan\n",
      "0            0         40.455917\n",
      "1            1         34.300090\n",
      "2            2         36.318205\n",
      "3            3         41.787749\n",
      "4            4         29.909057\n",
      "...        ...               ...\n",
      "127484  127484         32.044773\n",
      "127485  127485         37.373491\n",
      "127486  127486         41.431796\n",
      "127487  127487         35.021715\n",
      "127488  127488         44.948270\n",
      "\n",
      "[127489 rows x 2 columns]\n",
      "Data saved\n"
     ]
    }
   ],
   "source": [
    "y_results_randmf = randmf.predict(test_df)\n",
    "\n",
    "y_results_rf_random_df = pd.DataFrame({'rerata_kecepatan': y_results_randmf})\n",
    "\n",
    "# Concatenate id_df and y_results_df horizontally\n",
    "result_df = pd.concat([id_df, y_results_rf_random_df], axis=1)\n",
    "print(result_df)\n",
    "\n",
    "# Store the concatenated DataFrame to a CSV file\n",
    "result_df.to_csv('Data/submission rf random search.csv', index=False)\n",
    "\n",
    "print(\"Data saved\")"
   ]
  },
  {
   "cell_type": "code",
   "execution_count": null,
   "metadata": {},
   "outputs": [],
   "source": []
  }
 ],
 "metadata": {
  "kernelspec": {
   "display_name": "Python 3",
   "language": "python",
   "name": "python3"
  },
  "language_info": {
   "codemirror_mode": {
    "name": "ipython",
    "version": 3
   },
   "file_extension": ".py",
   "mimetype": "text/x-python",
   "name": "python",
   "nbconvert_exporter": "python",
   "pygments_lexer": "ipython3",
   "version": "3.11.1"
  },
  "orig_nbformat": 4
 },
 "nbformat": 4,
 "nbformat_minor": 2
}
