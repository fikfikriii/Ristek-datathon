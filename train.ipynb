{
 "cells": [
  {
   "cell_type": "code",
   "execution_count": 29,
   "metadata": {},
   "outputs": [],
   "source": [
    "import pandas as pd\n",
    "import numpy as np\n",
    "import matplotlib.pyplot as plt\n",
    "import seaborn as sns\n",
    "from statsmodels.tsa.statespace.sarimax import SARIMAX"
   ]
  },
  {
   "cell_type": "code",
   "execution_count": 30,
   "metadata": {},
   "outputs": [],
   "source": [
    "train_df = pd.read_csv('data/train.csv')\n",
    "test_df = pd.read_csv('data/test.csv')"
   ]
  },
  {
   "cell_type": "code",
   "execution_count": 31,
   "metadata": {},
   "outputs": [
    {
     "name": "stdout",
     "output_type": "stream",
     "text": [
      "<class 'pandas.core.frame.DataFrame'>\n",
      "RangeIndex: 398648 entries, 0 to 398647\n",
      "Data columns (total 5 columns):\n",
      " #   Column            Non-Null Count   Dtype  \n",
      "---  ------            --------------   -----  \n",
      " 0   waktu_setempat    398648 non-null  object \n",
      " 1   id_jalan          398648 non-null  int64  \n",
      " 2   id_titik_mulai    398648 non-null  int64  \n",
      " 3   id_titik_akhir    398648 non-null  int64  \n",
      " 4   rerata_kecepatan  398648 non-null  float64\n",
      "dtypes: float64(1), int64(3), object(1)\n",
      "memory usage: 15.2+ MB\n"
     ]
    }
   ],
   "source": [
    "train_df.info()"
   ]
  },
  {
   "cell_type": "code",
   "execution_count": 32,
   "metadata": {},
   "outputs": [
    {
     "name": "stdout",
     "output_type": "stream",
     "text": [
      "<class 'pandas.core.frame.DataFrame'>\n",
      "RangeIndex: 127489 entries, 0 to 127488\n",
      "Data columns (total 5 columns):\n",
      " #   Column          Non-Null Count   Dtype \n",
      "---  ------          --------------   ----- \n",
      " 0   id              127489 non-null  int64 \n",
      " 1   waktu_setempat  127489 non-null  object\n",
      " 2   id_jalan        127489 non-null  int64 \n",
      " 3   id_titik_mulai  127489 non-null  int64 \n",
      " 4   id_titik_akhir  127489 non-null  int64 \n",
      "dtypes: int64(4), object(1)\n",
      "memory usage: 4.9+ MB\n"
     ]
    }
   ],
   "source": [
    "test_df.info()"
   ]
  },
  {
   "cell_type": "code",
   "execution_count": 33,
   "metadata": {},
   "outputs": [
    {
     "data": {
      "text/plain": [
       "20"
      ]
     },
     "execution_count": 33,
     "metadata": {},
     "output_type": "execute_result"
    }
   ],
   "source": [
    "train_df['id_jalan'].nunique()"
   ]
  },
  {
   "cell_type": "code",
   "execution_count": 34,
   "metadata": {},
   "outputs": [
    {
     "data": {
      "text/plain": [
       "20"
      ]
     },
     "execution_count": 34,
     "metadata": {},
     "output_type": "execute_result"
    }
   ],
   "source": [
    "test_df['id_jalan'].nunique()"
   ]
  },
  {
   "cell_type": "code",
   "execution_count": 35,
   "metadata": {},
   "outputs": [],
   "source": [
    "train_df['waktu_setempat'] = pd.to_datetime(train_df['waktu_setempat'])\n",
    "test_df['waktu_setempat'] = pd.to_datetime(test_df['waktu_setempat'])"
   ]
  },
  {
   "cell_type": "code",
   "execution_count": 36,
   "metadata": {},
   "outputs": [],
   "source": [
    "train_df['hour'] = train_df['waktu_setempat'].dt.hour\n",
    "train_df['day_of_week'] = train_df['waktu_setempat'].dt.dayofweek\n",
    "train_df['month'] = train_df['waktu_setempat'].dt.month\n",
    "train_df['week'] = train_df['waktu_setempat'].dt.isocalendar().week\n",
    "\n",
    "train_df['week'] = train_df['week'].astype(int)\n"
   ]
  },
  {
   "cell_type": "code",
   "execution_count": 37,
   "metadata": {},
   "outputs": [],
   "source": [
    "test_df['hour'] = test_df['waktu_setempat'].dt.hour\n",
    "test_df['day_of_week'] = test_df['waktu_setempat'].dt.dayofweek\n",
    "test_df['month'] = test_df['waktu_setempat'].dt.month\n",
    "test_df['week'] = test_df['waktu_setempat'].dt.isocalendar().week\n",
    "\n",
    "test_df['week'] = test_df['week'].astype(int)"
   ]
  },
  {
   "cell_type": "code",
   "execution_count": 38,
   "metadata": {},
   "outputs": [
    {
     "name": "stdout",
     "output_type": "stream",
     "text": [
      "<class 'pandas.core.frame.DataFrame'>\n",
      "RangeIndex: 398648 entries, 0 to 398647\n",
      "Data columns (total 9 columns):\n",
      " #   Column            Non-Null Count   Dtype              \n",
      "---  ------            --------------   -----              \n",
      " 0   waktu_setempat    398648 non-null  datetime64[ns, UTC]\n",
      " 1   id_jalan          398648 non-null  int64              \n",
      " 2   id_titik_mulai    398648 non-null  int64              \n",
      " 3   id_titik_akhir    398648 non-null  int64              \n",
      " 4   rerata_kecepatan  398648 non-null  float64            \n",
      " 5   hour              398648 non-null  int32              \n",
      " 6   day_of_week       398648 non-null  int32              \n",
      " 7   month             398648 non-null  int32              \n",
      " 8   week              398648 non-null  int32              \n",
      "dtypes: datetime64[ns, UTC](1), float64(1), int32(4), int64(3)\n",
      "memory usage: 21.3 MB\n"
     ]
    }
   ],
   "source": [
    "train_df.info()"
   ]
  },
  {
   "cell_type": "code",
   "execution_count": 39,
   "metadata": {},
   "outputs": [],
   "source": [
    "train_df.drop(columns=['waktu_setempat'], inplace=True)\n",
    "test_df.drop(columns=['waktu_setempat'], inplace=True)"
   ]
  },
  {
   "cell_type": "code",
   "execution_count": 40,
   "metadata": {},
   "outputs": [],
   "source": [
    "# train_df['waktu_setempat'] = pd.to_datetime(train_df['waktu_setempat'])\n",
    "# train_df['date'] = train_df['waktu_setempat'].dt.date\n",
    "# train_df['time'] = train_df['waktu_setempat'].dt.time\n",
    "# train_df.drop(columns=['waktu_setempat'], inplace=True)\n",
    "\n",
    "# test_df['waktu_setempat'] = pd.to_datetime(test_df['waktu_setempat'])\n",
    "# test_df['date'] = test_df['waktu_setempat'].dt.date\n",
    "# test_df['time'] = test_df['waktu_setempat'].dt.time\n",
    "# test_df.drop(columns=['waktu_setempat'], inplace=True)"
   ]
  },
  {
   "cell_type": "code",
   "execution_count": 12,
   "metadata": {},
   "outputs": [],
   "source": [
    "## Train - Test Split\n",
    "import pandas as pd\n",
    "import numpy as np\n",
    "from sklearn.linear_model import LinearRegression\n",
    "from sklearn.model_selection import train_test_split\n",
    "import matplotlib.pyplot as plt\n",
    "\n",
    "# Function to calculate sMAPE\n",
    "def smape(actual, forecast):\n",
    "    return 100 * np.mean(2 * np.abs(forecast - actual) / (np.abs(actual) + np.abs(forecast)))\n",
    "\n",
    "X = train_df.drop(columns=['rerata_kecepatan'])\n",
    "y = train_df['rerata_kecepatan']\n",
    "\n",
    "X_train, X_test, y_train, y_test = train_test_split(X, y, test_size=0.3, random_state=42)\n"
   ]
  },
  {
   "cell_type": "code",
   "execution_count": 13,
   "metadata": {},
   "outputs": [
    {
     "name": "stdout",
     "output_type": "stream",
     "text": [
      "Linear Regression sMAPE: 17.38324254375391\n"
     ]
    }
   ],
   "source": [
    "# Linear Regression\n",
    "linear_reg_model = LinearRegression()\n",
    "linear_reg_model.fit(X_train, y_train)\n",
    "y_pred_linear_reg = linear_reg_model.predict(X_test)\n",
    "smape_linear_reg = smape(y_test, y_pred_linear_reg)\n",
    "print(\"Linear Regression sMAPE:\", smape_linear_reg)"
   ]
  },
  {
   "cell_type": "code",
   "execution_count": 108,
   "metadata": {},
   "outputs": [
    {
     "name": "stdout",
     "output_type": "stream",
     "text": [
      "ElasticNet sMAPE: 17.38347003096355\n"
     ]
    }
   ],
   "source": [
    "# Step 5: ElasticNet Model Training and Evaluation\n",
    "elasticnet_model = ElasticNet()\n",
    "elasticnet_model.fit(X_train, y_train)\n",
    "y_pred_elasticnet = elasticnet_model.predict(X_test)\n",
    "smape_elasticnet = smape(y_test, y_pred_elasticnet)\n",
    "print(\"ElasticNet sMAPE:\", smape_elasticnet)"
   ]
  },
  {
   "cell_type": "code",
   "execution_count": 15,
   "metadata": {},
   "outputs": [
    {
     "name": "stdout",
     "output_type": "stream",
     "text": [
      "XGBoost sMAPE: 8.92270550653233\n"
     ]
    }
   ],
   "source": [
    "from xgboost import XGBRegressor\n",
    "\n",
    "# XGBRegressor\n",
    "xgb_model = XGBRegressor()\n",
    "xgb_model.fit(X_train, y_train)\n",
    "y_pred_xgb = xgb_model.predict(X_test)\n",
    "smape_xgb = smape(y_test, y_pred_xgb)\n",
    "print(\"XGBoost sMAPE:\", smape_xgb)"
   ]
  },
  {
   "cell_type": "code",
   "execution_count": 41,
   "metadata": {},
   "outputs": [],
   "source": [
    "id_series = test_df['id']\n",
    "id_df = pd.DataFrame({'id': id_series})"
   ]
  },
  {
   "cell_type": "code",
   "execution_count": 42,
   "metadata": {},
   "outputs": [],
   "source": [
    "test_df.drop(columns=['id'], inplace=True)"
   ]
  },
  {
   "cell_type": "code",
   "execution_count": 128,
   "metadata": {},
   "outputs": [],
   "source": [
    "import optuna\n",
    "import xgboost as xgb\n",
    "from sklearn.metrics import mean_squared_error\n",
    "\n",
    "# Define the sMAPE function\n",
    "def smape(y_true, y_pred):\n",
    "    return 200 * np.mean(np.abs(y_pred - y_true) / (np.abs(y_pred) + np.abs(y_true)))\n",
    "\n",
    "# Define the objective function for Optuna\n",
    "def objective(trial):\n",
    "    # Define the hyperparameters to be optimized\n",
    "    params = {\n",
    "        'n_estimators': trial.suggest_int('n_estimators', 50, 1000),\n",
    "        'learning_rate': trial.suggest_loguniform('learning_rate', 0.001, 1.0),\n",
    "        'max_depth': trial.suggest_int('max_depth', 3, 10),\n",
    "        'subsample': trial.suggest_float('subsample', 0.1, 1.0),\n",
    "        'colsample_bytree': trial.suggest_float('colsample_bytree', 0.1, 1.0),\n",
    "    }\n",
    "\n",
    "    # Create the XGBoost model with the suggested hyperparameters\n",
    "    model = xgb.XGBRegressor(**params)\n",
    "\n",
    "    # Train the model\n",
    "    model.fit(X_train, y_train)\n",
    "\n",
    "    # Make predictions on the test set\n",
    "    y_pred = model.predict(X_test)\n",
    "\n",
    "    # Calculate the sMAPE\n",
    "    smape_score = smape(y_test, y_pred)\n",
    "\n",
    "    return smape_score\n"
   ]
  },
  {
   "cell_type": "code",
   "execution_count": 131,
   "metadata": {},
   "outputs": [
    {
     "name": "stderr",
     "output_type": "stream",
     "text": [
      "[I 2023-08-05 16:45:43,643] A new study created in memory with name: no-name-20e3642e-644f-43cf-b6f9-46af400385ab\n"
     ]
    },
    {
     "name": "stderr",
     "output_type": "stream",
     "text": [
      "[I 2023-08-05 16:46:29,521] Trial 0 finished with value: 65.84411927791868 and parameters: {'n_estimators': 570, 'learning_rate': 0.001178716157243451, 'max_depth': 6, 'subsample': 0.7909892317907676, 'colsample_bytree': 0.5977480701758112}. Best is trial 0 with value: 65.84411927791868.\n",
      "[I 2023-08-05 16:47:38,376] Trial 1 finished with value: 7.853727149855469 and parameters: {'n_estimators': 393, 'learning_rate': 0.05612844421193374, 'max_depth': 10, 'subsample': 0.36939762212358285, 'colsample_bytree': 0.9198966780848803}. Best is trial 1 with value: 7.853727149855469.\n",
      "[I 2023-08-05 16:47:55,828] Trial 2 finished with value: 12.619313577672978 and parameters: {'n_estimators': 427, 'learning_rate': 0.02771399532776737, 'max_depth': 4, 'subsample': 0.9610092174915718, 'colsample_bytree': 0.3319903885636597}. Best is trial 1 with value: 7.853727149855469.\n",
      "[I 2023-08-05 16:48:27,681] Trial 3 finished with value: 8.960219171621759 and parameters: {'n_estimators': 373, 'learning_rate': 0.5946537860991082, 'max_depth': 6, 'subsample': 0.1688390107451465, 'colsample_bytree': 0.8857986845497225}. Best is trial 1 with value: 7.853727149855469.\n",
      "[I 2023-08-05 16:49:01,442] Trial 4 finished with value: 9.791920838914155 and parameters: {'n_estimators': 357, 'learning_rate': 0.04812398530229557, 'max_depth': 6, 'subsample': 0.32673149177403166, 'colsample_bytree': 0.881932834590216}. Best is trial 1 with value: 7.853727149855469.\n",
      "[I 2023-08-05 16:49:21,414] Trial 5 finished with value: 11.237740720245705 and parameters: {'n_estimators': 390, 'learning_rate': 0.05333220229959398, 'max_depth': 4, 'subsample': 0.1686049213631, 'colsample_bytree': 0.7672140980955635}. Best is trial 1 with value: 7.853727149855469.\n",
      "[I 2023-08-05 16:50:12,746] Trial 6 finished with value: 93.16437907686583 and parameters: {'n_estimators': 412, 'learning_rate': 0.0010224946285637857, 'max_depth': 10, 'subsample': 0.4484626433131902, 'colsample_bytree': 0.4966123667047533}. Best is trial 1 with value: 7.853727149855469.\n",
      "[I 2023-08-05 16:50:22,376] Trial 7 finished with value: 13.303016660899432 and parameters: {'n_estimators': 205, 'learning_rate': 0.041733531559129296, 'max_depth': 3, 'subsample': 0.7755847108715496, 'colsample_bytree': 0.8060029865284881}. Best is trial 1 with value: 7.853727149855469.\n",
      "[I 2023-08-05 16:51:33,647] Trial 8 finished with value: 8.294214287790679 and parameters: {'n_estimators': 915, 'learning_rate': 0.08574264706873022, 'max_depth': 6, 'subsample': 0.9503466361902738, 'colsample_bytree': 0.7957572299776237}. Best is trial 1 with value: 7.853727149855469.\n",
      "[I 2023-08-05 16:51:51,232] Trial 9 finished with value: 9.103491906507791 and parameters: {'n_estimators': 271, 'learning_rate': 0.20705285244116142, 'max_depth': 6, 'subsample': 0.8240231921473642, 'colsample_bytree': 0.5358661947452713}. Best is trial 1 with value: 7.853727149855469.\n",
      "[I 2023-08-05 16:53:33,690] Trial 10 finished with value: 9.635494169770725 and parameters: {'n_estimators': 664, 'learning_rate': 0.010208521554221068, 'max_depth': 9, 'subsample': 0.5700446400090218, 'colsample_bytree': 0.9813809385481135}. Best is trial 1 with value: 7.853727149855469.\n",
      "[I 2023-08-05 16:54:29,291] Trial 11 finished with value: 10.97394950951164 and parameters: {'n_estimators': 970, 'learning_rate': 0.18704695402718705, 'max_depth': 8, 'subsample': 0.5562161368190922, 'colsample_bytree': 0.11708010729877999}. Best is trial 1 with value: 7.853727149855469.\n",
      "[I 2023-08-05 16:56:07,105] Trial 12 finished with value: 8.443101949646618 and parameters: {'n_estimators': 825, 'learning_rate': 0.8450469516578922, 'max_depth': 8, 'subsample': 0.99259525842693, 'colsample_bytree': 0.9869763237824708}. Best is trial 1 with value: 7.853727149855469.\n",
      "[I 2023-08-05 16:57:30,417] Trial 13 finished with value: 7.765268948757896 and parameters: {'n_estimators': 715, 'learning_rate': 0.16592194046186098, 'max_depth': 8, 'subsample': 0.6826592219911516, 'colsample_bytree': 0.730373060455988}. Best is trial 13 with value: 7.765268948757896.\n",
      "[I 2023-08-05 16:57:37,048] Trial 14 finished with value: 9.135250717398993 and parameters: {'n_estimators': 50, 'learning_rate': 0.1737684381114235, 'max_depth': 10, 'subsample': 0.659474037909106, 'colsample_bytree': 0.6745217421386427}. Best is trial 13 with value: 7.765268948757896.\n",
      "[I 2023-08-05 16:58:46,108] Trial 15 finished with value: 9.650441582616525 and parameters: {'n_estimators': 700, 'learning_rate': 0.015495209894805117, 'max_depth': 8, 'subsample': 0.3841244103255136, 'colsample_bytree': 0.7051565702746133}. Best is trial 13 with value: 7.765268948757896.\n",
      "[I 2023-08-05 17:00:11,712] Trial 16 finished with value: 9.157094850290516 and parameters: {'n_estimators': 624, 'learning_rate': 0.4509435892029378, 'max_depth': 9, 'subsample': 0.2976538104320702, 'colsample_bytree': 0.8916108777445567}. Best is trial 13 with value: 7.765268948757896.\n",
      "[I 2023-08-05 17:01:44,109] Trial 17 finished with value: 7.866976461767461 and parameters: {'n_estimators': 781, 'learning_rate': 0.10203765824445475, 'max_depth': 9, 'subsample': 0.4890354940268839, 'colsample_bytree': 0.6660785587679614}. Best is trial 13 with value: 7.765268948757896.\n",
      "[I 2023-08-05 17:02:40,802] Trial 18 finished with value: 7.942695208553088 and parameters: {'n_estimators': 507, 'learning_rate': 0.30650785367497785, 'max_depth': 7, 'subsample': 0.6182388822731493, 'colsample_bytree': 0.7825743566771124}. Best is trial 13 with value: 7.765268948757896.\n",
      "[I 2023-08-05 17:04:16,176] Trial 19 finished with value: 8.968740391387628 and parameters: {'n_estimators': 514, 'learning_rate': 0.4611610426078699, 'max_depth': 10, 'subsample': 0.4816113745124193, 'colsample_bytree': 0.9934568225014615}. Best is trial 13 with value: 7.765268948757896.\n",
      "[I 2023-08-05 17:05:25,586] Trial 20 finished with value: 8.11020324669749 and parameters: {'n_estimators': 777, 'learning_rate': 0.11224132835822326, 'max_depth': 7, 'subsample': 0.6730964942695155, 'colsample_bytree': 0.6063650184520651}. Best is trial 13 with value: 7.765268948757896.\n",
      "[I 2023-08-05 17:06:53,176] Trial 21 finished with value: 7.864462901395483 and parameters: {'n_estimators': 760, 'learning_rate': 0.10755858287628424, 'max_depth': 9, 'subsample': 0.5196569371034268, 'colsample_bytree': 0.698824451551894}. Best is trial 13 with value: 7.765268948757896.\n",
      "[I 2023-08-05 17:09:01,383] Trial 22 finished with value: 7.735865219014422 and parameters: {'n_estimators': 880, 'learning_rate': 0.08840119869248467, 'max_depth': 9, 'subsample': 0.5174703986434623, 'colsample_bytree': 0.7253794927077704}. Best is trial 22 with value: 7.735865219014422.\n",
      "[I 2023-08-05 17:10:52,025] Trial 23 finished with value: 8.125453468917092 and parameters: {'n_estimators': 841, 'learning_rate': 0.29918053077891843, 'max_depth': 8, 'subsample': 0.4037675123797756, 'colsample_bytree': 0.87835025993853}. Best is trial 22 with value: 7.735865219014422.\n",
      "[I 2023-08-05 17:13:27,982] Trial 24 finished with value: 7.676739726468258 and parameters: {'n_estimators': 999, 'learning_rate': 0.06803356336734688, 'max_depth': 10, 'subsample': 0.5911186095161197, 'colsample_bytree': 0.724513135069416}. Best is trial 24 with value: 7.676739726468258.\n"
     ]
    },
    {
     "name": "stdout",
     "output_type": "stream",
     "text": [
      "Best Hyperparameters: {'n_estimators': 999, 'learning_rate': 0.06803356336734688, 'max_depth': 10, 'subsample': 0.5911186095161197, 'colsample_bytree': 0.724513135069416}\n",
      "XGBoost sMAPE: 7.676739726468258\n"
     ]
    }
   ],
   "source": [
    "# Create an Optuna study object\n",
    "study = optuna.create_study(direction='minimize')\n",
    "\n",
    "# Start the optimization process\n",
    "study.optimize(objective, n_trials=25)\n",
    "\n",
    "# Get the best hyperparameters found by Optuna\n",
    "best_params = study.best_params\n",
    "\n",
    "# Create the XGBoost model with the best hyperparameters\n",
    "xgb_model = xgb.XGBRegressor(**best_params)\n",
    "\n",
    "# Train the model on the full training data\n",
    "xgb_model.fit(X_train, y_train)\n",
    "\n",
    "# Make predictions on the test set\n",
    "y_pred_xgb = xgb_model.predict(X_test)\n",
    "\n",
    "# Calculate sMAPE\n",
    "smape_xgb = smape(y_test, y_pred_xgb)\n",
    "\n",
    "# Print the results\n",
    "print(\"Best Hyperparameters:\", best_params)\n",
    "print(\"XGBoost sMAPE:\", smape_xgb)"
   ]
  },
  {
   "cell_type": "code",
   "execution_count": 135,
   "metadata": {},
   "outputs": [
    {
     "name": "stdout",
     "output_type": "stream",
     "text": [
      "KNeighborsRegressor sMAPE: 8.038132606464304\n"
     ]
    }
   ],
   "source": [
    "# KNeighborsRegressor\n",
    "import numpy as np\n",
    "from sklearn.neighbors import KNeighborsRegressor\n",
    "from sklearn.model_selection import train_test_split\n",
    "\n",
    "# Create and train the KNeighborsRegressor model\n",
    "knn_model = KNeighborsRegressor(n_neighbors=5, weights='uniform')  # You can change the hyperparameters here\n",
    "knn_model.fit(X_train, y_train)\n",
    "\n",
    "# Make predictions on the test set\n",
    "y_pred_knn = knn_model.predict(X_test)\n",
    "\n",
    "# Calculate sMAPE\n",
    "smape_knn = smape(y_test, y_pred_knn)\n",
    "\n",
    "# Print the sMAPE score\n",
    "print(\"KNeighborsRegressor sMAPE:\", smape_knn)"
   ]
  },
  {
   "cell_type": "code",
   "execution_count": 16,
   "metadata": {},
   "outputs": [
    {
     "name": "stdout",
     "output_type": "stream",
     "text": [
      "RandomForestRegressor sMAPE: 8.301866824296635\n"
     ]
    }
   ],
   "source": [
    "# RandomForestRegressor\n",
    "import numpy as np\n",
    "from sklearn.ensemble import RandomForestRegressor\n",
    "from sklearn.model_selection import train_test_split\n",
    "\n",
    "# Create and train the RandomForestRegressor model\n",
    "rf_model = RandomForestRegressor(n_estimators=100, random_state=42)  # You can change the hyperparameters here\n",
    "rf_model.fit(X_train, y_train)\n",
    "\n",
    "# Make predictions on the test set\n",
    "y_pred_rf = rf_model.predict(X_test)\n",
    "\n",
    "# Calculate sMAPE\n",
    "smape_rf = smape(y_test, y_pred_rf)\n",
    "\n",
    "# Print the sMAPE score\n",
    "print(\"RandomForestRegressor sMAPE:\", smape_rf)"
   ]
  },
  {
   "cell_type": "code",
   "execution_count": 17,
   "metadata": {},
   "outputs": [
    {
     "name": "stdout",
     "output_type": "stream",
     "text": [
      "ExtraTreesRegressor sMAPE: 9.264608275482022\n"
     ]
    }
   ],
   "source": [
    "# ExtraTreesRegressor\n",
    "import numpy as np\n",
    "from sklearn.ensemble import ExtraTreesRegressor\n",
    "from sklearn.model_selection import train_test_split\n",
    "\n",
    "# Create and train the ExtraTreesRegressor model\n",
    "etr_model = ExtraTreesRegressor(n_estimators=100, random_state=42)  # You can change the hyperparameters here\n",
    "etr_model.fit(X_train, y_train)\n",
    "\n",
    "# Make predictions on the test set\n",
    "y_pred_etr = etr_model.predict(X_test)\n",
    "\n",
    "# Calculate sMAPE\n",
    "smape_etr = smape(y_test, y_pred_etr)\n",
    "\n",
    "# Print the sMAPE score\n",
    "print(\"ExtraTreesRegressor sMAPE:\", smape_etr)\n"
   ]
  },
  {
   "cell_type": "code",
   "execution_count": 44,
   "metadata": {},
   "outputs": [
    {
     "name": "stdout",
     "output_type": "stream",
     "text": [
      "            id  rerata_kecepatan\n",
      "0            0         43.557128\n",
      "1            1         36.630407\n",
      "2            2         36.895161\n",
      "3            3         43.895500\n",
      "4            4         31.620071\n",
      "...        ...               ...\n",
      "127484  127484         31.794929\n",
      "127485  127485         37.400357\n",
      "127486  127486         39.474581\n",
      "127487  127487         34.847019\n",
      "127488  127488         44.942365\n",
      "\n",
      "[127489 rows x 2 columns]\n",
      "Data saved to 'data/submission.csv'\n"
     ]
    }
   ],
   "source": [
    "y_results = knn_model.predict(test_df)\n",
    "y_results_df = pd.DataFrame({'rerata_kecepatan': y_results})\n",
    "\n",
    "# Concatenate id_df and y_results_df horizontally\n",
    "result_df = pd.concat([id_df, y_results_df], axis=1)\n",
    "print(result_df)\n",
    "\n",
    "# Store the concatenated DataFrame to a CSV file\n",
    "result_df.to_csv('Data/submission.csv', index=False)\n",
    "\n",
    "print(\"Data saved to 'data/submission.csv'\")"
   ]
  }
 ],
 "metadata": {
  "kernelspec": {
   "display_name": "Python 3",
   "language": "python",
   "name": "python3"
  },
  "language_info": {
   "codemirror_mode": {
    "name": "ipython",
    "version": 3
   },
   "file_extension": ".py",
   "mimetype": "text/x-python",
   "name": "python",
   "nbconvert_exporter": "python",
   "pygments_lexer": "ipython3",
   "version": "3.11.1"
  },
  "orig_nbformat": 4
 },
 "nbformat": 4,
 "nbformat_minor": 2
}
