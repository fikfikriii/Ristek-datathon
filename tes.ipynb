{
 "cells": [
  {
   "cell_type": "code",
   "execution_count": 2,
   "metadata": {},
   "outputs": [
    {
     "data": {
      "text/html": [
       "<div>\n",
       "<style scoped>\n",
       "    .dataframe tbody tr th:only-of-type {\n",
       "        vertical-align: middle;\n",
       "    }\n",
       "\n",
       "    .dataframe tbody tr th {\n",
       "        vertical-align: top;\n",
       "    }\n",
       "\n",
       "    .dataframe thead th {\n",
       "        text-align: right;\n",
       "    }\n",
       "</style>\n",
       "<table border=\"1\" class=\"dataframe\">\n",
       "  <thead>\n",
       "    <tr style=\"text-align: right;\">\n",
       "      <th></th>\n",
       "      <th>id_titik_mulai</th>\n",
       "      <th>id_titik_akhir</th>\n",
       "    </tr>\n",
       "  </thead>\n",
       "  <tbody>\n",
       "    <tr>\n",
       "      <th>0</th>\n",
       "      <td>21390008</td>\n",
       "      <td>1425033102</td>\n",
       "    </tr>\n",
       "    <tr>\n",
       "      <th>1</th>\n",
       "      <td>1677092762</td>\n",
       "      <td>579493410</td>\n",
       "    </tr>\n",
       "    <tr>\n",
       "      <th>2</th>\n",
       "      <td>26486694</td>\n",
       "      <td>1930267566</td>\n",
       "    </tr>\n",
       "    <tr>\n",
       "      <th>3</th>\n",
       "      <td>1111592522</td>\n",
       "      <td>3775231113</td>\n",
       "    </tr>\n",
       "    <tr>\n",
       "      <th>4</th>\n",
       "      <td>5940503398</td>\n",
       "      <td>5940503394</td>\n",
       "    </tr>\n",
       "  </tbody>\n",
       "</table>\n",
       "</div>"
      ],
      "text/plain": [
       "   id_titik_mulai  id_titik_akhir\n",
       "0        21390008      1425033102\n",
       "1      1677092762       579493410\n",
       "2        26486694      1930267566\n",
       "3      1111592522      3775231113\n",
       "4      5940503398      5940503394"
      ]
     },
     "execution_count": 2,
     "metadata": {},
     "output_type": "execute_result"
    }
   ],
   "source": [
    "import requests\n",
    "import pandas as pd\n",
    "import numpy as np\n",
    "\n",
    "# Define the Overpass API URL\n",
    "overpass_url = \"https://www.overpass-api.de/api/interpreter\"\n",
    "\n",
    "# Read the CSV file into a DataFrame\n",
    "csv_file = \"Data/train - Copy.csv\"\n",
    "data = pd.read_csv(csv_file, sep=';', decimal=',')\n",
    "\n",
    "data.head()"
   ]
  },
  {
   "cell_type": "code",
   "execution_count": 12,
   "metadata": {},
   "outputs": [
    {
     "name": "stdout",
     "output_type": "stream",
     "text": [
      "14\n"
     ]
    }
   ],
   "source": [
    "# Create new columns for latitude and longitude\n",
    "data[\"start_latitude\"] = None\n",
    "data[\"start_longitude\"] = None\n",
    "\n",
    "empty_start_elements = []\n",
    "# Iterate through each row in the DataFrame\n",
    "for index, row in data.iterrows():\n",
    "    start_node_id = row[\"id_titik_mulai\"]\n",
    "    # end_node_id = row[\"id_titik_akhir\"]\n",
    "    \n",
    "    # Define the Overpass API queries to retrieve latitude and longitude for the nodes\n",
    "    start_node_query = f\"\"\"\n",
    "        [out:json];\n",
    "        node({start_node_id});\n",
    "        out;\n",
    "    \"\"\"\n",
    "    # end_node_query = f\"\"\"\n",
    "    #     [out:json];\n",
    "    #     node({end_node_id});\n",
    "    #     out;\n",
    "    # \"\"\"\n",
    "    \n",
    "    # Send the requests to the Overpass API\n",
    "    start_response = requests.get(overpass_url, params={\"data\": start_node_query})\n",
    "    # end_response = requests.get(overpass_url, params={\"data\": end_node_query})\n",
    "    \n",
    "    start_data = start_response.json()\n",
    "    # end_data = end_response.json()\n",
    "    \n",
    "    if \"elements\" in start_data and len(start_data[\"elements\"]) > 0:\n",
    "        start_node = start_data[\"elements\"][0]\n",
    "        start_latitude = start_node.get(\"lat\", None)\n",
    "        start_longitude = start_node.get(\"lon\", None)\n",
    "        data.at[index, \"start_latitude\"] = start_latitude\n",
    "        data.at[index, \"start_longitude\"] = start_longitude\n",
    "        \n",
    "    if len(start_data[\"elements\"]) == 0:\n",
    "        empty_start_elements.append(start_node_id)\n",
    "        \n",
    "print(len(empty_start_elements))"
   ]
  },
  {
   "cell_type": "code",
   "execution_count": 14,
   "metadata": {},
   "outputs": [
    {
     "data": {
      "text/plain": [
       "[5669475346,\n",
       " 227758,\n",
       " 227771,\n",
       " 1663461749,\n",
       " 1701556095,\n",
       " 5669475346,\n",
       " 2375143,\n",
       " 227771,\n",
       " 227758,\n",
       " 6205314505,\n",
       " 1663461749,\n",
       " 6205314505,\n",
       " 1701556095,\n",
       " 2375143]"
      ]
     },
     "execution_count": 14,
     "metadata": {},
     "output_type": "execute_result"
    }
   ],
   "source": [
    "empty_start_elements"
   ]
  },
  {
   "cell_type": "code",
   "execution_count": 16,
   "metadata": {},
   "outputs": [
    {
     "name": "stdout",
     "output_type": "stream",
     "text": [
      "14\n"
     ]
    }
   ],
   "source": [
    "data[\"end_latitude\"] = None\n",
    "data[\"end_longitude\"] = None\n",
    "\n",
    "empty_end_elements = []\n",
    "# Iterate through each row in the DataFrame\n",
    "for index, row in data.iterrows():\n",
    "    end_node_id = row[\"id_titik_akhir\"]\n",
    "\n",
    "    end_node_query = f\"\"\"\n",
    "        [out:json];\n",
    "        node({end_node_id});\n",
    "        out;\n",
    "    \"\"\"\n",
    "    \n",
    "    end_response = requests.get(overpass_url, params={\"data\": end_node_query})\n",
    "    end_data = end_response.json()\n",
    "    \n",
    "    if \"elements\" in end_data and len(end_data[\"elements\"]) > 0:\n",
    "        end_node = end_data[\"elements\"][0]\n",
    "        end_latitude = end_node.get(\"lat\", None)\n",
    "        end_longitude = end_node.get(\"lon\", None)\n",
    "        data.at[index, \"end_latitude\"] = end_latitude\n",
    "        data.at[index, \"end_longitude\"] = end_longitude\n",
    "        \n",
    "    if len(end_data[\"elements\"]) == 0:\n",
    "        empty_end_elements.append(end_node_id)\n",
    "        \n",
    "print(len(empty_end_elements))"
   ]
  },
  {
   "cell_type": "code",
   "execution_count": 17,
   "metadata": {},
   "outputs": [
    {
     "data": {
      "text/plain": [
       "[5669475346,\n",
       " 1701556095,\n",
       " 2375143,\n",
       " 1701556095,\n",
       " 6205314505,\n",
       " 6205314505,\n",
       " 227758,\n",
       " 227758,\n",
       " 5669475346,\n",
       " 227771,\n",
       " 1663461749,\n",
       " 1663461749,\n",
       " 227771,\n",
       " 2375143]"
      ]
     },
     "execution_count": 17,
     "metadata": {},
     "output_type": "execute_result"
    }
   ],
   "source": [
    "empty_end_elements"
   ]
  },
  {
   "cell_type": "code",
   "execution_count": 18,
   "metadata": {},
   "outputs": [],
   "source": [
    "def haversine(lat1, lon1, lat2, lon2):\n",
    "    R = 6371.0  # Radius of the Earth in kilometers\n",
    "    dlat = np.radians(lat2 - lat1)\n",
    "    dlon = np.radians(lon2 - lon1)\n",
    "    a = np.sin(dlat / 2) ** 2 + np.cos(np.radians(lat1)) * np.cos(np.radians(lat2)) * np.sin(dlon / 2) ** 2\n",
    "    c = 2 * np.arctan2(np.sqrt(a), np.sqrt(1 - a))\n",
    "    distance = R * c\n",
    "    return distance"
   ]
  },
  {
   "cell_type": "code",
   "execution_count": 35,
   "metadata": {},
   "outputs": [
    {
     "name": "stdout",
     "output_type": "stream",
     "text": [
      "<class 'pandas.core.frame.DataFrame'>\n",
      "RangeIndex: 934 entries, 0 to 933\n",
      "Data columns (total 6 columns):\n",
      " #   Column           Non-Null Count  Dtype \n",
      "---  ------           --------------  ----- \n",
      " 0   id_titik_mulai   934 non-null    int64 \n",
      " 1   id_titik_akhir   934 non-null    int64 \n",
      " 2   start_latitude   920 non-null    object\n",
      " 3   start_longitude  920 non-null    object\n",
      " 4   end_latitude     920 non-null    object\n",
      " 5   end_longitude    920 non-null    object\n",
      "dtypes: int64(2), object(4)\n",
      "memory usage: 43.9+ KB\n"
     ]
    }
   ],
   "source": [
    "data.info()"
   ]
  },
  {
   "cell_type": "code",
   "execution_count": 45,
   "metadata": {},
   "outputs": [],
   "source": [
    "data.to_csv('lat_lon_data.csv', index=False, sep=';', decimal=',')"
   ]
  },
  {
   "cell_type": "code",
   "execution_count": 29,
   "metadata": {},
   "outputs": [
    {
     "data": {
      "text/plain": [
       "7.927905607025733"
      ]
     },
     "execution_count": 29,
     "metadata": {},
     "output_type": "execute_result"
    }
   ],
   "source": [
    "x = haversine(51.434928, -0.161176, 51.434975, -0.16109)\n",
    "x*1000"
   ]
  },
  {
   "cell_type": "code",
   "execution_count": 30,
   "metadata": {},
   "outputs": [
    {
     "data": {
      "text/plain": [
       "29.111400752964496"
      ]
     },
     "execution_count": 30,
     "metadata": {},
     "output_type": "execute_result"
    }
   ],
   "source": [
    "y = haversine(51.530289, -0.228343\t,51.530197\t, -0.227949)\n",
    "y*1000"
   ]
  },
  {
   "cell_type": "code",
   "execution_count": 40,
   "metadata": {},
   "outputs": [],
   "source": [
    "# Convert latitude and longitude columns to numeric values\n",
    "data['start_latitude'] = pd.to_numeric(data['start_latitude'])\n",
    "data['start_longitude'] = pd.to_numeric(data['start_longitude'])\n",
    "data['end_latitude'] = pd.to_numeric(data['end_latitude'])\n",
    "data['end_longitude'] = pd.to_numeric(data['end_longitude'])\n",
    "\n",
    "# Calculate distance for each row using the haversine function\n",
    "data['distance_km'] = data.apply(lambda row: haversine(row['start_latitude'], row['start_longitude'], row['end_latitude'], row['end_longitude']), axis=1)"
   ]
  },
  {
   "cell_type": "code",
   "execution_count": 43,
   "metadata": {},
   "outputs": [],
   "source": [
    "data['distance_meter'] = data['distance_km'] * 1000"
   ]
  },
  {
   "cell_type": "code",
   "execution_count": null,
   "metadata": {},
   "outputs": [],
   "source": []
  }
 ],
 "metadata": {
  "kernelspec": {
   "display_name": "Python 3",
   "language": "python",
   "name": "python3"
  },
  "language_info": {
   "codemirror_mode": {
    "name": "ipython",
    "version": 3
   },
   "file_extension": ".py",
   "mimetype": "text/x-python",
   "name": "python",
   "nbconvert_exporter": "python",
   "pygments_lexer": "ipython3",
   "version": "3.11.1"
  },
  "orig_nbformat": 4
 },
 "nbformat": 4,
 "nbformat_minor": 2
}
